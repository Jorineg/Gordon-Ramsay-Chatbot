{
  "cells": [
    {
      "cell_type": "markdown",
      "metadata": {
        "id": "GultelkPSVGV"
      },
      "source": [
        "## installation, imports and helper functions"
      ]
    },
    {
      "cell_type": "code",
      "execution_count": null,
      "metadata": {
        "colab": {
          "base_uri": "https://localhost:8080/"
        },
        "id": "zYCJTPdT7npa",
        "outputId": "f9c26b93-1369-49c7-95a0-7363c1eab72a"
      },
      "outputs": [
        {
          "name": "stderr",
          "output_type": "stream",
          "text": [
            "/usr/local/lib/python3.10/dist-packages/trl/trainer/ppo_config.py:141: UserWarning: The `optimize_cuda_cache` arguement will be deprecated soon, please use `optimize_device_cache` instead.\n",
            "  warnings.warn(\n"
          ]
        }
      ],
      "source": [
        "#@title installing stuff and configure some things\n",
        "\n",
        "#!pip install -q  torch peft==0.4.0 bitsandbytes==0.40.2 transformers==4.31.0 trl==0.4.7 accelerate sacrebleu rouge-score OpenAI\n",
        "!pip install -q  torch peft bitsandbytes transformers trl accelerate sacrebleu rouge-score OpenAI\n",
        "\n",
        "# fix very strange bug...\n",
        "import locale\n",
        "locale.getpreferredencoding = lambda *_: \"UTF-8\"\n",
        "\n",
        "# disable warnings\n",
        "import warnings\n",
        "warnings.simplefilter(action='ignore', category=FutureWarning)\n",
        "\n",
        "import numpy as np\n",
        "import pandas as pd\n",
        "from IPython.display import display, HTML\n",
        "import gspread\n",
        "from oauth2client.service_account import ServiceAccountCredentials\n",
        "import json\n",
        "\n",
        "\n",
        "\n",
        "import torch\n",
        "from datasets import load_dataset\n",
        "from transformers import (\n",
        "    AutoModelForCausalLM,\n",
        "    AutoTokenizer,\n",
        "    BitsAndBytesConfig,\n",
        "    TrainingArguments,\n",
        "    pipeline,\n",
        "    TrainerCallback,\n",
        "    AutoModel\n",
        ")\n",
        "from peft import LoraConfig, get_peft_model, prepare_model_for_kbit_training\n",
        "\n",
        "from trl import SFTTrainer, DataCollatorForCompletionOnlyLM\n",
        "import sacrebleu\n",
        "from rouge_score import rouge_scorer\n",
        "from openai import OpenAI\n",
        "from tqdm import tqdm\n",
        "from numpy.linalg import norm\n",
        "\n",
        "pd.options.display.min_rows = 20\n",
        "\n",
        "OPENAI_API_KEY = \"PUT YOUR API KEY HERE\""
      ]
    },
    {
      "cell_type": "code",
      "execution_count": null,
      "metadata": {
        "cellView": "form",
        "id": "P3lHzXk5kLa2"
      },
      "outputs": [],
      "source": [
        "#@title Data display function\n",
        "def show(df, rows=7):\n",
        "    # Display the DataFrame\n",
        "    if rows == 0:\n",
        "        rows = len(df)\n",
        "    html_style = \"<style>td{text-align: left !important;}</style>\"\n",
        "    html = df.to_html(justify=\"left\", max_rows=rows, classes=\"my_table\")\n",
        "    display(HTML(html_style + html))\n"
      ]
    },
    {
      "cell_type": "markdown",
      "metadata": {
        "id": "HIXwt1UG8gIe"
      },
      "source": [
        "## load big bang dataset"
      ]
    },
    {
      "cell_type": "code",
      "execution_count": null,
      "metadata": {
        "id": "B2Eo21C0KQdt"
      },
      "outputs": [],
      "source": [
        "#@title unzip big bang dataset (upload first to colab, see link)\n",
        "\n",
        "# using kaggle dataset\n",
        "# not automized...\n",
        "# download from here\n",
        "# https://www.kaggle.com/datasets/mitramir5/the-big-bang-theory-series-transcript\n",
        "# upload archive.zip\n",
        "\n",
        "! unzip -n archive.zip"
      ]
    },
    {
      "cell_type": "code",
      "execution_count": null,
      "metadata": {
        "cellView": "form",
        "id": "Yzqv5JHrL_Q7"
      },
      "outputs": [],
      "source": [
        "#@title processing data\n",
        "df = pd.read_csv(\"1_10_seasons_tbbt.csv\")\n",
        "df['scene_number'] = (df['person_scene'] == 'Scene').cumsum()\n",
        "grouped = df.groupby('scene_number')\n",
        "\n",
        "# Create an empty dataframe to store extracted information\n",
        "extracted_scenes = pd.DataFrame(columns=df.columns)\n",
        "\n",
        "MIN_HISTORY = 5\n",
        "\n",
        "buffer = []\n",
        "count = 0\n",
        "for name, group in grouped:\n",
        "    first = None\n",
        "    for _, row in group.iterrows():\n",
        "        if first is None:\n",
        "            buffer = []\n",
        "            first = row.copy()\n",
        "            continue\n",
        "\n",
        "        buffer.append(row.copy())\n",
        "        if len(buffer) >= MIN_HISTORY and row['person_scene'] == 'Sheldon':\n",
        "            buffer = buffer[-MIN_HISTORY:]\n",
        "            buffer = [first] + buffer\n",
        "            for r in buffer:\n",
        "                r[\"instance\"] = count\n",
        "            extracted_scenes = extracted_scenes.append(buffer)\n",
        "            # Clear buffer and reset count\n",
        "            buffer = []\n",
        "            count += 1\n",
        "\n",
        "# Reset index\n",
        "extracted_scenes.reset_index(drop=True, inplace=True)\n",
        "show(extracted_scenes)"
      ]
    },
    {
      "cell_type": "code",
      "execution_count": null,
      "metadata": {
        "cellView": "form",
        "id": "3ira33-K_uPM"
      },
      "outputs": [],
      "source": [
        "#@title bringing data in final shape\n",
        "def create_context(rows):\n",
        "    rows = rows.reset_index(drop=True)\n",
        "    context = f\"Scene: {rows.iloc[0]['dialogue']}\\n\\n\"\n",
        "    context += \"\\n\".join(f\"{row['person_scene']}: {row['dialogue']}\" for _, row in rows.iloc[1:-1].iterrows())\n",
        "    context += \"\\nSheldon: \"\n",
        "    label = rows.iloc[-1]['dialogue']\n",
        "    return context, label\n",
        "\n",
        "dataset = pd.DataFrame(columns=['input', 'label'])\n",
        "dataset[['input', 'label']] = extracted_scenes.groupby(\"instance\").apply(create_context).apply(pd.Series)\n",
        "show(dataset)"
      ]
    },
    {
      "cell_type": "code",
      "execution_count": null,
      "metadata": {
        "cellView": "form",
        "id": "5m0zlFYZgG9r"
      },
      "outputs": [],
      "source": [
        "#@title Save dataset as csv\n",
        "data_name = \"sheldon.csv\"\n",
        "dataset.to_csv(data_name, index=False)"
      ]
    },
    {
      "cell_type": "markdown",
      "metadata": {
        "id": "WyaKXNLPE6hb"
      },
      "source": [
        "## Load Gordon Ramsay dataset"
      ]
    },
    {
      "cell_type": "code",
      "execution_count": null,
      "metadata": {
        "colab": {
          "base_uri": "https://localhost:8080/",
          "height": 581
        },
        "id": "rWdNkwFhW4VM",
        "outputId": "e3c5b27f-6736-4507-bbfa-df173fef86ea"
      },
      "outputs": [
        {
          "data": {
            "text/html": [
              "<style>td{text-align: left !important;}</style><table border=\"1\" class=\"dataframe my_table\">\n",
              "  <thead>\n",
              "    <tr style=\"text-align: left;\">\n",
              "      <th></th>\n",
              "      <th>Question</th>\n",
              "      <th>Response</th>\n",
              "      <th>Source Number</th>\n",
              "      <th>Filter</th>\n",
              "    </tr>\n",
              "  </thead>\n",
              "  <tbody>\n",
              "    <tr>\n",
              "      <th>0</th>\n",
              "      <td>What is your name?</td>\n",
              "      <td>Dude you should know my name!</td>\n",
              "      <td>0</td>\n",
              "      <td>X</td>\n",
              "    </tr>\n",
              "    <tr>\n",
              "      <th>1</th>\n",
              "      <td>One person, could be anyone, to make you pancakes for the rest of your life.</td>\n",
              "      <td>I have so many great breakfast-makers in my life between my wife, Tana, my mum and the kids. But I’d have to say my daughter Tilly. She knows how to cook them (and make the perfect mess)!</td>\n",
              "      <td>2</td>\n",
              "      <td></td>\n",
              "    </tr>\n",
              "    <tr>\n",
              "      <th>2</th>\n",
              "      <td>How many close calls did you have before you could successfully carve a chicken blindfolded?</td>\n",
              "      <td>None! But I certainly did not move that quickly on my first couple of attempts. I need all ten fingers.</td>\n",
              "      <td>2</td>\n",
              "      <td></td>\n",
              "    </tr>\n",
              "    <tr>\n",
              "      <th>...</th>\n",
              "      <td>...</td>\n",
              "      <td>...</td>\n",
              "      <td>...</td>\n",
              "      <td>...</td>\n",
              "    </tr>\n",
              "    <tr>\n",
              "      <th>168</th>\n",
              "      <td>Can you tell us a little more about the experts you consulted in the show?</td>\n",
              "      <td>The experts were paramount across this competition because they really gave the contenders an insight. These experts were in their shoes five, six years ago - look at Ben Branson, the creator of Seedlip, that guy was developing these cocktails in the back of his mother's kitchen on their farm as early as 2014, and within five years became a huge, huge industry success. Again, Will Shu one of the founders of Deliveroo, developed the app while he was living above a little greasy spoon cafe down the Kings Road, and it didn't really implode until 2010. Getting up to Daylesford and seeing how a farm should be, in an amazing position to offer farm-to-table best produce, again, it was an amazing challenge and great produce. We were very lucky to work with those leading experts. Love the Taco Boys and the humble approach that these two kids have; they were young chefs who set up a taco shack on the beach at 21 and 22 years of age, with a product that is there and then gone - these things were sold out before the end of the queue finished. I believe it really helped Future Food Stars come to life working with those experts because it gave the show so much gravitas.</td>\n",
              "      <td>16</td>\n",
              "      <td></td>\n",
              "    </tr>\n",
              "    <tr>\n",
              "      <th>169</th>\n",
              "      <td>The contenders don’t always see eye to eye. Were you surprised at the level of tension amongst them? Does tension always equal passion?</td>\n",
              "      <td>You know, in any business, there's always tension and there's pressure. I've always adapted to handling that pressure. They were super competitive, and differences were inevitable. They are all strong, independent characters - that’s why they are successful in what they do, running their different independent businesses. Ultimately, I wanted them to focus on the challenges ahead and stay focused on that prize, which they did.</td>\n",
              "      <td>16</td>\n",
              "      <td>X</td>\n",
              "    </tr>\n",
              "    <tr>\n",
              "      <th>170</th>\n",
              "      <td>What advice would you give to any future food stars wanting to get investment?</td>\n",
              "      <td>My advice is, to ask yourself if your business is at the forefront of the competition. What can you do to change it? Are you ready to take a quantum leap and get this business catapulted? The secret behind any great success is the art of delegation. Are they willing to let go of some of the independence and control in their brand in order to take on that help? And if they can accept that and maintain their quality and focus then the sky's the limit!</td>\n",
              "      <td>16</td>\n",
              "      <td></td>\n",
              "    </tr>\n",
              "  </tbody>\n",
              "</table>"
            ],
            "text/plain": [
              "<IPython.core.display.HTML object>"
            ]
          },
          "metadata": {},
          "output_type": "display_data"
        }
      ],
      "source": [
        "#@title Load dataset from our spreadsheet into pandas dataframe\n",
        "\n",
        "# google credentials for automatic access to the spreadsheet with the training data\n",
        "google_credentials = \"\"\"\n",
        "PUT YOUR CREDENTIALS HERE\n",
        "\"\"\"\n",
        "\n",
        "credentials_dict = json.loads(google_credentials, strict=False)\n",
        "\n",
        "# Set up credentials\n",
        "scope = [\"https://spreadsheets.google.com/feeds\", \"https://www.googleapis.com/auth/drive\"]\n",
        "creds = ServiceAccountCredentials.from_json_keyfile_dict(credentials_dict, scope)\n",
        "client = gspread.authorize(creds)\n",
        "\n",
        "# Open the Google Sheets document by its title\n",
        "spreadsheet = client.open(\"Gordon Ramsay Training Data\")\n",
        "\n",
        "# Select a specific worksheet\n",
        "worksheet = spreadsheet.get_worksheet(0)  # Use the index of the sheet, starting from 0\n",
        "\n",
        "# Get all values from the worksheet\n",
        "data = worksheet.get_all_values()\n",
        "data = np.array(data)\n",
        "\n",
        "# Convert the data to a Pandas DataFrame\n",
        "df = pd.DataFrame(data[1:,:4], columns=data[0,:4])\n",
        "\n",
        "show(df)"
      ]
    },
    {
      "cell_type": "code",
      "execution_count": null,
      "metadata": {
        "cellView": "form",
        "colab": {
          "base_uri": "https://localhost:8080/",
          "height": 616
        },
        "id": "0ObOcbOhVY5G",
        "outputId": "32edf7f5-2b83-4fee-fd06-61cfa76378da"
      },
      "outputs": [
        {
          "data": {
            "text/html": [
              "<style>td{text-align: left !important;}</style><table border=\"1\" class=\"dataframe my_table\">\n",
              "  <thead>\n",
              "    <tr style=\"text-align: left;\">\n",
              "      <th></th>\n",
              "      <th>Question</th>\n",
              "      <th>Response</th>\n",
              "      <th>Source Number</th>\n",
              "      <th>Filter</th>\n",
              "    </tr>\n",
              "  </thead>\n",
              "  <tbody>\n",
              "    <tr>\n",
              "      <th>0</th>\n",
              "      <td>One person, could be anyone, to make you pancakes for the rest of your life.</td>\n",
              "      <td>I have so many great breakfast-makers in my life between my wife, Tana, my mum and the kids. But I’d have to say my daughter Tilly. She knows how to cook them (and make the perfect mess)!</td>\n",
              "      <td>2</td>\n",
              "      <td></td>\n",
              "    </tr>\n",
              "    <tr>\n",
              "      <th>1</th>\n",
              "      <td>How many close calls did you have before you could successfully carve a chicken blindfolded?</td>\n",
              "      <td>None! But I certainly did not move that quickly on my first couple of attempts. I need all ten fingers.</td>\n",
              "      <td>2</td>\n",
              "      <td></td>\n",
              "    </tr>\n",
              "    <tr>\n",
              "      <th>2</th>\n",
              "      <td>The first attempt at a dish that went completely awry?</td>\n",
              "      <td>Like everything in life, learning to cook is all about the failure of your attempts. You have to be resilient and dust yourself down and go again. This came in handy when I made my first salted caramel soufflé. What a disaster!</td>\n",
              "      <td>2</td>\n",
              "      <td></td>\n",
              "    </tr>\n",
              "    <tr>\n",
              "      <th>...</th>\n",
              "      <td>...</td>\n",
              "      <td>...</td>\n",
              "      <td>...</td>\n",
              "      <td>...</td>\n",
              "    </tr>\n",
              "    <tr>\n",
              "      <th>129</th>\n",
              "      <td>You film in some stunning locations across the UK, can you tell us a little more about them?</td>\n",
              "      <td>The UK has got such beauty when it comes to filming and it lends itself to such amazing photography. We open up the show in Newquay - that place has been my family's exciting little haven over the last 10 years since we fell in love with Cornwall a decade ago. Filming out in the Lake District and doing the challenge designed for the first responders, the Mountain Rescue Team, was breathtaking, absolutely breathtaking. We also filmed down in Devon and Somerset's Cheddar Gorge, doing a challenge locating cheese in these amazing caves which was beautiful, really beautiful. And then of course, London. We're spoilt for choice when it comes to stunning architecture and locations in London. The power and energy of the city just helps drive the contestants to push even harder.</td>\n",
              "      <td>16</td>\n",
              "      <td></td>\n",
              "    </tr>\n",
              "    <tr>\n",
              "      <th>130</th>\n",
              "      <td>Can you tell us a little more about the experts you consulted in the show?</td>\n",
              "      <td>The experts were paramount across this competition because they really gave the contenders an insight. These experts were in their shoes five, six years ago - look at Ben Branson, the creator of Seedlip, that guy was developing these cocktails in the back of his mother's kitchen on their farm as early as 2014, and within five years became a huge, huge industry success. Again, Will Shu one of the founders of Deliveroo, developed the app while he was living above a little greasy spoon cafe down the Kings Road, and it didn't really implode until 2010. Getting up to Daylesford and seeing how a farm should be, in an amazing position to offer farm-to-table best produce, again, it was an amazing challenge and great produce. We were very lucky to work with those leading experts. Love the Taco Boys and the humble approach that these two kids have; they were young chefs who set up a taco shack on the beach at 21 and 22 years of age, with a product that is there and then gone - these things were sold out before the end of the queue finished. I believe it really helped Future Food Stars come to life working with those experts because it gave the show so much gravitas.</td>\n",
              "      <td>16</td>\n",
              "      <td></td>\n",
              "    </tr>\n",
              "    <tr>\n",
              "      <th>131</th>\n",
              "      <td>What advice would you give to any future food stars wanting to get investment?</td>\n",
              "      <td>My advice is, to ask yourself if your business is at the forefront of the competition. What can you do to change it? Are you ready to take a quantum leap and get this business catapulted? The secret behind any great success is the art of delegation. Are they willing to let go of some of the independence and control in their brand in order to take on that help? And if they can accept that and maintain their quality and focus then the sky's the limit!</td>\n",
              "      <td>16</td>\n",
              "      <td></td>\n",
              "    </tr>\n",
              "  </tbody>\n",
              "</table>"
            ],
            "text/plain": [
              "<IPython.core.display.HTML object>"
            ]
          },
          "metadata": {},
          "output_type": "display_data"
        }
      ],
      "source": [
        "#@title Exclude some of the data marked with an \"x\"\n",
        "df = df[(df[\"Filter\"] != \"x\") & (df[\"Filter\"] != \"X\")].reset_index(drop=True)\n",
        "show(df)"
      ]
    },
    {
      "cell_type": "code",
      "execution_count": null,
      "metadata": {
        "cellView": "form",
        "colab": {
          "base_uri": "https://localhost:8080/"
        },
        "id": "GUdAhIJxZXnh",
        "outputId": "449157a5-f449-453f-be52-8ed7d49b4850"
      },
      "outputs": [
        {
          "name": "stdout",
          "output_type": "stream",
          "text": [
            "Yes, I found one guy in a Greek restaurant this year who was almost I suppose constantly sort of shot down by his dad that in his eyes, he could never step up to the plate. This guy ran the service like we never expected. Honestly this guy was almost sort of becoming a bit of a sort of filler in, run around and in his early 30s was a bit of a go-for for his dad and never really had an identity, so the staff in that restaurant didn’t take him serious. So, yes, this was amazing because I’d never seen anyone run a hot plate and coordinate a kitchen and multi-task the way he did. He just snapped into it almost like he’d been trained for six months to gear up for that one night. And he kept it all in and it just went crazy. It was an amazing thing to see. But we come across these little gems and they are few and far between. I can’t absolutely ever put money into these restaurants because that’s a production thing. I can’t be seen to favor one. I can’t be seen to employ any of them either, because it looks like I’m then robbing them of their status. But we are asked all the time I would to leave with you, can you take me. It’s hard because I don’t care what any of the negativities are. There’s so much more politics and tough love and there’s a big requirement. Like I said after 48 hours, they can’t stand you. But then we were tortured. They didn’t communicate. They show you nothing. And then when you start showing them the change and the difference and then all of a sudden they start to almost nearing your side and they come back. And then you go out on a high, but it’s a bumpy road, so there’s no restaurant anywhere in this country tonight, tomorrow and even in the U.K. that won’t have a bump in service. And the most important thing is stop taking it personally. Just get on with it.\n"
          ]
        }
      ],
      "source": [
        "#@title find out longest answer in training to know the max tokes we need to generate. (This has answer has about 400 tokens)\n",
        "print(max(df[\"Response\"], key=len))"
      ]
    },
    {
      "cell_type": "code",
      "execution_count": null,
      "metadata": {
        "cellView": "form",
        "colab": {
          "base_uri": "https://localhost:8080/",
          "height": 53
        },
        "id": "0Xc_jmzqctDL",
        "outputId": "cfbcfe04-e43c-494f-80d8-421d17dcab65"
      },
      "outputs": [
        {
          "data": {
            "application/vnd.google.colaboratory.intrinsic+json": {
              "type": "string"
            },
            "text/plain": [
              "'<s>[INST] One person, could be anyone, to make you pancakes for the rest of your life. [/INST] I have so many great breakfast-makers in my life between my wife, Tana, my mum and the kids. But I’d have to say my daughter Tilly. She knows how to cook them (and make the perfect mess)!'"
            ]
          },
          "execution_count": 6,
          "metadata": {},
          "output_type": "execute_result"
        }
      ],
      "source": [
        "#@title Turn data into llama format and save as CSV\n",
        "\n",
        "def data_to_llama_format(model_input, model_output=None, system_message=None):\n",
        "    result = \"<s>[INST] \"\n",
        "    if system_message is not None:\n",
        "        result += \"<<SYS>>\\n\" + system_message + \"<</SYS>>\\n\\n\"\n",
        "    result += model_input + \" [/INST] \"\n",
        "    if model_output is not None:\n",
        "        result += model_output\n",
        "    return result\n",
        "\n",
        "\n",
        "data_name = \"train_ramsay.csv\"\n",
        "\n",
        "df[\"text\"] = data_to_llama_format(df[\"Question\"], model_output=df[\"Response\"])\n",
        "df[\"input\"] = df[\"Question\"]\n",
        "df[\"label\"] = df[\"Response\"]\n",
        "df.to_csv(data_name, index=False)\n",
        "\n",
        "df[\"text\"][0]"
      ]
    },
    {
      "cell_type": "markdown",
      "metadata": {
        "id": "wJGFW2WufKtX"
      },
      "source": [
        "## Perform train test split"
      ]
    },
    {
      "cell_type": "code",
      "execution_count": null,
      "metadata": {
        "colab": {
          "base_uri": "https://localhost:8080/",
          "height": 595,
          "referenced_widgets": [
            "04dfa73d696540b1864e5370c0462d56",
            "457274a264c145518f906cded35cfe94",
            "47d6cbba25e344cb987f71ff0c212b4a",
            "01bdf99a90da467899a43414c24127fb",
            "e0a8716359f742eaa72088c54f39718b",
            "6aed6e91c06340bd95f568e70fbab731",
            "729acdb7f6ac411ab04e3f6036487453",
            "02d5fbd749a34e93bd70d7cfc16ea88f",
            "95ca3d2afa4645af923bdcb7be487694",
            "d9f151d59776435f8c24277863cf4cc0",
            "0e04abc31625457e8b2e0afa4075c81b",
            "e945f0385eb24387a959dadcea22f716",
            "af1fbc1f9e234037a02e093a628710ef",
            "f4a088c8beb44b0c8dc565d81e27363d",
            "7ada00029f1040819077d04e2a12def0",
            "89afe9439fa34fd69a6518c8eb776bad",
            "408fecbc4a40430e953fcf1e139c2b59",
            "bef3fe43ad72450ebcdd9c8aaf5cc300",
            "2a4569bd92d742afbfe12e84c7470233",
            "76912993f6364b82bcee0c7ccfbb6501",
            "cb61501b8a4743628f61a53f9dbce4e8",
            "2808d1fdab3a42efa14c4b11eb413696",
            "840c9a05775f46698343432b5471f4b6",
            "f0272a42db1b4aadae11cc33687905dc",
            "5c4c052a019a46d99ce4ebf9317179d2",
            "a60aac4ab1c343dbbcda2129d7db0e9d",
            "7ee9390b8d214902909026853081cb7a",
            "bec63315a2fa45f0ab3564f1d8401da1",
            "39ab843a56d04f71854e2fcca83233c6",
            "89d9cc190f6a4d80b16841f2ae11cae0",
            "40a6494a92454bf0b2dc988d04b52d08",
            "414cfbbfbe4c4be4b42f39927c53a85c",
            "b29ad9bf6fa24110a51579258e6bdb83"
          ]
        },
        "id": "_cmvJOp6e1md",
        "outputId": "936e8170-4480-4d2d-8ab5-dd3c2fcd69f1"
      },
      "outputs": [
        {
          "data": {
            "application/vnd.jupyter.widget-view+json": {
              "model_id": "04dfa73d696540b1864e5370c0462d56",
              "version_major": 2,
              "version_minor": 0
            },
            "text/plain": [
              "Downloading data files:   0%|          | 0/1 [00:00<?, ?it/s]"
            ]
          },
          "metadata": {},
          "output_type": "display_data"
        },
        {
          "data": {
            "application/vnd.jupyter.widget-view+json": {
              "model_id": "e945f0385eb24387a959dadcea22f716",
              "version_major": 2,
              "version_minor": 0
            },
            "text/plain": [
              "Extracting data files:   0%|          | 0/1 [00:00<?, ?it/s]"
            ]
          },
          "metadata": {},
          "output_type": "display_data"
        },
        {
          "data": {
            "application/vnd.jupyter.widget-view+json": {
              "model_id": "840c9a05775f46698343432b5471f4b6",
              "version_major": 2,
              "version_minor": 0
            },
            "text/plain": [
              "Generating train split: 0 examples [00:00, ? examples/s]"
            ]
          },
          "metadata": {},
          "output_type": "display_data"
        },
        {
          "data": {
            "text/plain": [
              "Dataset({\n",
              "    features: ['Question', 'Response', 'Source Number', 'Filter', 'text', 'input', 'label'],\n",
              "    num_rows: 113\n",
              "})"
            ]
          },
          "execution_count": 7,
          "metadata": {},
          "output_type": "execute_result"
        }
      ],
      "source": [
        "#@title load dataset\n",
        "# Dataset\n",
        "full_dataset = load_dataset(\"csv\", data_files=data_name, split=\"train\")\n",
        "\n",
        "# splitted_dataset = full_dataset.train_test_split(test_size=.02, seed=42)\n",
        "splitted_dataset = full_dataset.train_test_split(test_size=.15, seed=42)\n",
        "\n",
        "training_data = splitted_dataset[\"train\"]\n",
        "testing_data = splitted_dataset[\"test\"]\n",
        "\n",
        "training_data"
      ]
    },
    {
      "cell_type": "markdown",
      "metadata": {
        "id": "fN2SjdzSMTgD"
      },
      "source": [
        "## Load and setup model"
      ]
    },
    {
      "cell_type": "code",
      "execution_count": null,
      "metadata": {
        "colab": {
          "base_uri": "https://localhost:8080/",
          "height": 224,
          "referenced_widgets": [
            "ef2e0ea92ed14b1f99ede26d2d35d9c2",
            "a358d0316e5f469d9831c3c21106f4c0",
            "7ae202253c824c44a9e25937a8ec8d37",
            "4c87d23f3aa64594bf453cd6ac12cee9",
            "5af44b04804f448bb552234457d65a90",
            "98ccb8cc57e44abeadc5d471729aefa0",
            "69e4014e5ca343cab187f9af4894030b",
            "78c83694a62c463c99ac525b1fb1ee2d",
            "c5672399f6a34d66a2126976008a0a66",
            "05df0e9e1e0b4961a22c2c05fb1be9e7",
            "332d51dd790b48abb44537ae5e696032"
          ]
        },
        "id": "d4holnKMdtIv",
        "outputId": "ee6fe699-29e8-4636-86b1-36870648baf6"
      },
      "outputs": [
        {
          "data": {
            "application/vnd.jupyter.widget-view+json": {
              "model_id": "ef2e0ea92ed14b1f99ede26d2d35d9c2",
              "version_major": 2,
              "version_minor": 0
            },
            "text/plain": [
              "Loading checkpoint shards:   0%|          | 0/2 [00:00<?, ?it/s]"
            ]
          },
          "metadata": {},
          "output_type": "display_data"
        },
        {
          "name": "stderr",
          "output_type": "stream",
          "text": [
            "/usr/local/lib/python3.10/dist-packages/transformers/generation/configuration_utils.py:381: UserWarning: `do_sample` is set to `False`. However, `temperature` is set to `0.9` -- this flag is only used in sample-based generation modes. You should set `do_sample=True` or unset `temperature`. This was detected when initializing the generation config instance, which means the corresponding file may hold incorrect parameterization and should be fixed.\n",
            "  warnings.warn(\n",
            "/usr/local/lib/python3.10/dist-packages/transformers/generation/configuration_utils.py:386: UserWarning: `do_sample` is set to `False`. However, `top_p` is set to `0.6` -- this flag is only used in sample-based generation modes. You should set `do_sample=True` or unset `top_p`. This was detected when initializing the generation config instance, which means the corresponding file may hold incorrect parameterization and should be fixed.\n",
            "  warnings.warn(\n"
          ]
        }
      ],
      "source": [
        "#@title Download the model (llama2) This usually takes some time\n",
        "\n",
        "# Model and tokenizer names\n",
        "base_model_name = \"NousResearch/Llama-2-7b-hf\"\n",
        "# base_model_name = \"NousResearch/Llama-2-7b-chat-hf\"\n",
        "\n",
        "\n",
        "# Quantization Config\n",
        "quant_config = BitsAndBytesConfig(\n",
        "    load_in_4bit=True,\n",
        "    bnb_4bit_quant_type=\"nf4\",\n",
        "    bnb_4bit_compute_dtype=torch.bfloat16,\n",
        "    bnb_4bit_use_double_quant=False\n",
        ")\n",
        "\n",
        "# Model\n",
        "base_model = AutoModelForCausalLM.from_pretrained(\n",
        "    base_model_name,\n",
        "    quantization_config=quant_config,\n",
        "    device_map={\"\": 0}\n",
        ")\n",
        "\n",
        "# Tokenizer\n",
        "llama_tokenizer = AutoTokenizer.from_pretrained(base_model_name, trust_remote_code=True)\n",
        "llama_tokenizer.pad_token = llama_tokenizer.eos_token\n",
        "\n",
        "# llama_tokenizer.padding_side = \"right\"  # Fix for fp16\n",
        "# base_model.config.use_cache = False\n",
        "# base_model.config.pretraining_tp = 1\n",
        "\n",
        "\n",
        "base_model = prepare_model_for_kbit_training(base_model)"
      ]
    },
    {
      "cell_type": "code",
      "execution_count": null,
      "metadata": {
        "id": "XIPue_HdlsSm"
      },
      "outputs": [],
      "source": [
        "#@title Prompt format and Generation settings\n",
        "\n",
        "\n",
        "from transformers import StoppingCriteriaList, StoppingCriteria\n",
        "# the tokenizer is hard to work with because the tokenization of \"\\nQuestion:\" depends on whatever was before...\n",
        "# thats why I use [3:] to cut the first part of the tokenized sequence and hope that the rest will be the same no matter of what came before\n",
        "# this seems to work\n",
        "stop_words_ids = [\n",
        "    llama_tokenizer(stop_word, return_tensors='pt').to(\"cuda:0\")['input_ids'].squeeze()[3:] for stop_word in [\"\\nQuestion:\"]\n",
        "    ]\n",
        "\n",
        "class StoppingCriteriaSub(StoppingCriteria):\n",
        "    def __init__(self, stops = []):\n",
        "        StoppingCriteria.__init__(self),\n",
        "        self.stops = stops\n",
        "\n",
        "    def __call__(self, input_ids: torch.LongTensor, scores: torch.FloatTensor, **kwargs) -> bool:\n",
        "        for seq in input_ids:\n",
        "            for stop in self.stops:\n",
        "                if len(seq) >= len(stop) and torch.all((stop == seq[-len(stop):])).item():\n",
        "                    return True\n",
        "        return False\n",
        "\n",
        "\n",
        "from transformers import StoppingCriteriaList\n",
        "stopping_criteria = StoppingCriteriaList([StoppingCriteriaSub(stops=stop_words_ids)])\n",
        "\n",
        "\n",
        "generation_params = {\n",
        "    \"task\": \"text-generation\",\n",
        "    \"model\": base_model,\n",
        "    \"tokenizer\": llama_tokenizer,\n",
        "    \"max_new_tokens\": 500,\n",
        "    \"return_full_text\": False,\n",
        "    \"repetition_penalty\": 1.2,\n",
        "    \"temperature\": .7,\n",
        "    \"stopping_criteria\": stopping_criteria,\n",
        "}\n",
        "\n",
        "\n",
        "# system_prompt = \"Complete Sheldons response\"\n",
        "system_prompt = \"Answer as Gordon Ramsay\"\n",
        "\n",
        "# gpt_system_prompt = \"You are Sheldon Cooper. Write his response, which is usually short.\"\n",
        "gpt_system_prompt = \"Answer as Gordon Ramsay in one to five sentences.\"\n",
        "\n",
        "# response_template = \"[/INST]\"\n",
        "response_template = \"Response:\"\n",
        "\n",
        "# def formatting_prompts_func(example, system_prompt=system_prompt):\n",
        "#     output_texts = []\n",
        "#     for i in range(len(example['input'])):\n",
        "#         if system_prompt != \"\":\n",
        "#           text = f\"<s>[INST] <<SYS>>{system_prompt}<</SYS>>\\n\\n{example['input'][i]}\\n[/INST] {example['label'][i]}\"\n",
        "#         else:\n",
        "#           text = f\"<s>[INST] {example['input'][i]}\\n[/INST] {example['label'][i]}\"\n",
        "#         output_texts.append(text)\n",
        "#     return output_texts\n",
        "\n",
        "def formatting_prompts_func(example, system_prompt=system_prompt):\n",
        "    output_texts = []\n",
        "    for i in range(len(example['input'])):\n",
        "        text = f\"Question: {example['input'][i]}\\nResponse: {example['label'][i]}\"\n",
        "        output_texts.append(text)\n",
        "    return output_texts\n",
        "\n",
        "\n",
        "# Generate Text\n",
        "def answer(question, system_prompt=system_prompt, **kwargs):\n",
        "    params = generation_params.copy()\n",
        "    params.update(kwargs)\n",
        "    text_gen = pipeline(**params)\n",
        "    data = {\"input\": [question], \"label\":[\"\"]}\n",
        "    formatted_data = formatting_prompts_func(data, system_prompt=system_prompt)[0]\n",
        "    output = text_gen(formatted_data)\n",
        "    output = output[0]['generated_text'].split(\"\\nQuestion:\")[0]\n",
        "    if len(llama_tokenizer(output)) >= generation_params['max_new_tokens']:\n",
        "        print(\"warning: max tokens reached in output\")\n",
        "    return output"
      ]
    },
    {
      "cell_type": "code",
      "execution_count": null,
      "metadata": {
        "colab": {
          "base_uri": "https://localhost:8080/",
          "height": 1000
        },
        "id": "gfsK6r8qbFzv",
        "outputId": "5b525d78-894c-4a4b-91c3-d30fc50c8e89"
      },
      "outputs": [
        {
          "data": {
            "text/html": [
              "<style>td{text-align: left !important;}</style><table border=\"1\" class=\"dataframe my_table\">\n",
              "  <thead>\n",
              "    <tr style=\"text-align: left;\">\n",
              "      <th></th>\n",
              "      <th>input</th>\n",
              "      <th>label</th>\n",
              "    </tr>\n",
              "  </thead>\n",
              "  <tbody>\n",
              "    <tr>\n",
              "      <th>0</th>\n",
              "      <td>Putting you on the spot, have you given your legacy much thought?</td>\n",
              "      <td>Fucking hell. That's a big question. Legacy? I think my legacy would be the plethora of talent that I've had the pleasure to work with, they’re now laying the foundation of the future. Oh, and whether I’m in a tapas bar on the backstreets of Barcelona or the arse-end of the jungle, someone wants to talk to me about my fucking beef Wellington. As for what I'd like to be remembered for... I'd like to be remembered for perfection. Because it's an absolute bitch to get right, but when it is, it's the most beautiful fucking thing on the planet.</td>\n",
              "    </tr>\n",
              "    <tr>\n",
              "      <th>1</th>\n",
              "      <td>A meal when you weren’t expecting much but were absolutely blown away.</td>\n",
              "      <td>I was in New Zealand filming my National Geographic show and I had a few days down in Auckland. We went down this alleyway to this restaurant in a basement called Cassia, and it had the most incredible modern Indian food. If there was a Michelin Guide in Auckland, that spot would have it.</td>\n",
              "    </tr>\n",
              "    <tr>\n",
              "      <th>2</th>\n",
              "      <td>Twenty four hours is a really short period of time to turn a restaurant around. Why did you pick that time frame?</td>\n",
              "      <td>You’ll be surprised what you can do after three decades in this business in 24 hours. We do our due diligence, we do our homework constantly and then we come up with a plan, a conceptualized plan before we get here. So the good news is that we’re sorta rigging these businesses, for two to three weeks, with CCTV cameras. We get all the footage, condensed. I know where all the bodies are buried and then I can get straight to work. So, yeah, it’s twenty-four hours, but it’s almost like a week’s work.</td>\n",
              "    </tr>\n",
              "    <tr>\n",
              "      <th>...</th>\n",
              "      <td>...</td>\n",
              "      <td>...</td>\n",
              "    </tr>\n",
              "    <tr>\n",
              "      <th>110</th>\n",
              "      <td>There was a recent interview in the London Times where the writer was saying that he didn’t think you were taking the move to New York as seriously as you should. What was your reaction to that?</td>\n",
              "      <td>I don’t underestimate the challenge in New York, but I’m not as intimidated. I’ve been to hell and back to get where I am today at the age of 40, and the challenges were extraordinary. When I learn and eat out the way I do, constantly going into Jean-Georges and Daniel and Per Se and Masa and the Modern - phenomenal chefs, phenomenal chefs - but I don’t feel that I’m out of their league. They’ve been here as part of the building infrastructure for years and I’m the new kid on the block, someone to scrutinize twice as much so any little mistake becomes a big mistake. I shouldn’t be making mistakes; however, I do. I’m genuine and I don’t underestimate a challenge and I know that it’s a daunting task, but I love that level of jeopardy. I’m at my best under pressure. I can’t function unless I have it. If I’m taking it easy, I’m not interested. I want the best of the best, and there’s a price to pay for that, so no, the challenge is daunting but exciting. I’m still going to sleep with one eye open, trust me.</td>\n",
              "    </tr>\n",
              "    <tr>\n",
              "      <th>111</th>\n",
              "      <td>Are there any tricks of the trade you can share with us? How do you know when the time is right to drop the f-bomb?</td>\n",
              "      <td>No, no, no. I'm completely unedited. When it comes, it comes. Nobody tells me what to say or when to say it, it just comes out.</td>\n",
              "    </tr>\n",
              "    <tr>\n",
              "      <th>112</th>\n",
              "      <td>Tell us the truth: is it a hassle having to fly around the world, visiting your restaurants and doing these interviews?</td>\n",
              "      <td>It’s a happy problem. It’s all about time management. This time last week I was in Costa Rica diving with bull sharks. Now I’ve got a grip on my diary, I’m actually doing less and doing what I have left to do better.</td>\n",
              "    </tr>\n",
              "  </tbody>\n",
              "</table>"
            ],
            "text/plain": [
              "<IPython.core.display.HTML object>"
            ]
          },
          "metadata": {},
          "output_type": "display_data"
        }
      ],
      "source": [
        "show(training_data.to_pandas()[['input', 'label']])"
      ]
    },
    {
      "cell_type": "markdown",
      "metadata": {
        "id": "euXyec3bltkS"
      },
      "source": [
        "## Test the loaded model"
      ]
    },
    {
      "cell_type": "code",
      "execution_count": null,
      "metadata": {
        "colab": {
          "base_uri": "https://localhost:8080/"
        },
        "id": "2r7fz3S8otFt",
        "outputId": "b3987e87-0774-4b9b-d8cc-2dce59fdadd9"
      },
      "outputs": [
        {
          "name": "stdout",
          "output_type": "stream",
          "text": [
            "100% my mum! She’s a great cook and she makes amazing pancakes with bacon on top. I love them so much that when we were in America last year, I had one every day at breakfast time. It was like an obsession – but they weren’t as good as hers.\n"
          ]
        }
      ],
      "source": [
        "print(answer(\"One person, could be anyone, to make you pancakes for the rest of your life.\"))"
      ]
    },
    {
      "cell_type": "markdown",
      "metadata": {
        "id": "9r0LbIr_8Noe"
      },
      "source": [
        "## Setup accuracy measurements"
      ]
    },
    {
      "cell_type": "code",
      "execution_count": null,
      "metadata": {
        "cellView": "form",
        "id": "9kt53kzn8H90"
      },
      "outputs": [],
      "source": [
        "#@title loading embedding model for embedding distance accuracy\n",
        "\n",
        "# current sota text embedding model (bert architecture)\n",
        "embedding_model = AutoModel.from_pretrained('jinaai/jina-embeddings-v2-base-en', trust_remote_code=True) # trust_remote_code is needed to use the encode method"
      ]
    },
    {
      "cell_type": "code",
      "execution_count": null,
      "metadata": {
        "id": "Lll0Cxg6wzMX"
      },
      "outputs": [],
      "source": [
        "#@title function to measure bleu, rouge and embedding distance\n",
        "tqdm.pandas()\n",
        "client = OpenAI(api_key=OPENAI_API_KEY)\n",
        "scorer = rouge_scorer.RougeScorer(['rouge1', 'rouge2', 'rougeL', 'rougeLsum'], use_stemmer=True)\n",
        "\n",
        "# store generated output of evaluations to be able to look over them later\n",
        "model_outputs = testing_data.to_pandas().copy(deep=True)[['input', 'label']]\n",
        "\n",
        "def get_bleu(pred, label):\n",
        "    return sacrebleu.corpus_bleu([pred], [[label]]).score/100\n",
        "\n",
        "def get_rouge(pred, label):\n",
        "    scores = scorer.score(label, pred)\n",
        "    return np.mean([s.precision for s in scores.values()])\n",
        "\n",
        "def get_embedding_similarity(pred, label):\n",
        "    pred_emb, label_emb = embedding_model.encode([pred, label])\n",
        "    dot_similarity = np.dot(pred_emb, label_emb)\n",
        "    cos_similarity = dot_similarity/ (norm(pred_emb) * norm(label_emb))\n",
        "    return cos_similarity, dot_similarity\n",
        "\n",
        "def evaluate_model(awnser_method, save_results=None):\n",
        "    df = testing_data.to_pandas()\n",
        "    # without_answers = df.copy()\n",
        "    # without_answers['label'] = \"\"\n",
        "    # df['text'] = formatting_prompts_func(without_answers)\n",
        "\n",
        "    df['pred'] = df['input'].progress_apply(awnser_method)\n",
        "    # from random import random\n",
        "    # df['pred'] = [(label if random()<.5 else 'I am not Gordon Ramsay') for label in df['label']]\n",
        "\n",
        "    if save_results is not None:\n",
        "        model_outputs[save_results] = df['pred'].copy()\n",
        "\n",
        "    ev = lambda fun: (lambda row: fun(row['pred'], row['label']))\n",
        "    df['bleu'] = df.apply(ev(get_bleu), axis=1)\n",
        "    df['rouge'] = df.apply(ev(get_rouge), axis=1)\n",
        "    df['similarity'] = df.apply(ev(get_embedding_similarity), axis=1)\n",
        "    df['cos_similarity'] = df[\"similarity\"].apply(lambda x: x[0])\n",
        "    df['dot_similarity'] = df[\"similarity\"].apply(lambda x: x[1])\n",
        "\n",
        "    stats = df['bleu'].mean(), df['rouge'].mean(), df['cos_similarity'].mean(), df['dot_similarity'].mean()\n",
        "    print(f\"Bleu: {stats[0]}, Rouge: {stats[1]} Cos Similarity: {stats[2]} Dot Similarity: {stats[3]} Mean: {np.mean(stats)}\")\n",
        "    return stats"
      ]
    },
    {
      "cell_type": "code",
      "execution_count": null,
      "metadata": {
        "cellView": "form",
        "id": "QlC8KBT_Pw-7"
      },
      "outputs": [],
      "source": [
        "#@title GPT-3.5 Turbo API call\n",
        "# instruct_prompt = \"You are Sheldon Cooper. Write his response, which is usually short.\"\n",
        "def gpt_3_answer(text, system_prompt=None):\n",
        "    messages = []\n",
        "    if system_prompt:\n",
        "        messages += [\n",
        "        {\n",
        "            \"role\": \"system\",\n",
        "            \"content\": [{\"type\": \"text\", \"text\": system_prompt}],\n",
        "        }\n",
        "    ]\n",
        "    messages += [\n",
        "        {\n",
        "            \"role\": \"user\",\n",
        "            \"content\": [{\"type\": \"text\", \"text\": text}],\n",
        "        }\n",
        "    ]\n",
        "    response = client.chat.completions.create(\n",
        "        model=\"gpt-3.5-turbo\",\n",
        "        messages=messages,\n",
        "        max_tokens=generation_params['max_new_tokens'],\n",
        "    )\n",
        "    return response.choices[0].message.content"
      ]
    },
    {
      "cell_type": "code",
      "execution_count": null,
      "metadata": {
        "cellView": "form",
        "colab": {
          "base_uri": "https://localhost:8080/",
          "height": 1000
        },
        "id": "dc4rWGTpQYnM",
        "outputId": "5370b371-fdfb-4253-d357-09fb7e348982"
      },
      "outputs": [
        {
          "data": {
            "application/vnd.google.colaboratory.intrinsic+json": {
              "type": "string"
            },
            "text/plain": [
              "\"These pancakes are an absolute disgrace! They're undercooked, rubbery, and practically flavorless. It's an insult to call this cooking. You couldn't pay me to eat these for the rest of my life.\""
            ]
          },
          "execution_count": 14,
          "metadata": {},
          "output_type": "execute_result"
        }
      ],
      "source": [
        "#@title test openai api call\n",
        "gpt_3_answer(\"One person, could be anyone, to make you pancakes for the rest of your life.\", system_prompt=gpt_system_prompt)"
      ]
    },
    {
      "cell_type": "code",
      "execution_count": null,
      "metadata": {
        "id": "O9ce-72r8u2p"
      },
      "outputs": [],
      "source": [
        "#@title store evaluation results\n",
        "evaluation_results = {\n",
        "    \"base llama\": [0.008825346003609846, 0.22769520371946975, 0.8098319172859192, 150.72434997558594],\n",
        "    \"instructed llama\": [0.009552554836528558, 0.24490193502317564, 0.8018774390220642, 150.07127380371094],\n",
        "    \"instructed GPT 3.5\": [0.04536359184711902, 0.41137333123323727, 0.8733572779418028, 0],\n",
        "    \"fine-tuned llama (ours)\": [0.010482740836124457, 0.15966477626383907, 0.7388901114463806, 144.7965545654297]\n",
        "\n",
        "}"
      ]
    },
    {
      "cell_type": "markdown",
      "metadata": {
        "id": "PHcpYI766YmH"
      },
      "source": [
        "## Run accuracy measurements for baselines"
      ]
    },
    {
      "cell_type": "code",
      "execution_count": null,
      "metadata": {
        "colab": {
          "base_uri": "https://localhost:8080/"
        },
        "id": "HuT8_Byj6U3h",
        "outputId": "bb2ef33e-6a9c-4081-c7da-4e166b28de15"
      },
      "outputs": [
        {
          "name": "stderr",
          "output_type": "stream",
          "text": [
            "\r  0%|          | 0/21 [00:00<?, ?it/s]/usr/local/lib/python3.10/dist-packages/transformers/generation/configuration_utils.py:381: UserWarning: `do_sample` is set to `False`. However, `temperature` is set to `0.7` -- this flag is only used in sample-based generation modes. You should set `do_sample=True` or unset `temperature`.\n",
            "  warnings.warn(\n",
            " 48%|████▊     | 10/21 [03:44<04:57, 27.01s/it]"
          ]
        }
      ],
      "source": [
        "#@title (instruction fine-tuned) llama without instruction, just answer\n",
        "evaluation_results[\"base llama\"] = evaluate_model(lambda x: answer(x, system_prompt=\"\"), save_results=\"base llama\")"
      ]
    },
    {
      "cell_type": "code",
      "execution_count": null,
      "metadata": {
        "colab": {
          "base_uri": "https://localhost:8080/"
        },
        "id": "Xqf_vFXH68U4",
        "outputId": "2fee2bb7-495d-4115-b0e6-f6bc0e91f4a1"
      },
      "outputs": [
        {
          "name": "stderr",
          "output_type": "stream",
          "text": [
            "\r  0%|          | 0/21 [00:00<?, ?it/s]/usr/local/lib/python3.10/dist-packages/transformers/generation/configuration_utils.py:381: UserWarning: `do_sample` is set to `False`. However, `temperature` is set to `0.7` -- this flag is only used in sample-based generation modes. You should set `do_sample=True` or unset `temperature`.\n",
            "  warnings.warn(\n",
            "100%|██████████| 21/21 [06:41<00:00, 19.13s/it]\n"
          ]
        },
        {
          "name": "stdout",
          "output_type": "stream",
          "text": [
            "Bleu: 0.008674623400277966, Rouge: 0.2389677800449639 Cos Similarity: 0.7875950932502747 Dot Similarity: 147.0535430908203 Mean: 37.02219514687896\n"
          ]
        }
      ],
      "source": [
        "#@title llama 2 instructed to awnser as Sheldon\n",
        "evaluation_results[\"instructed llama\"] = evaluate_model(answer, save_results=\"instructed llama\")"
      ]
    },
    {
      "cell_type": "code",
      "execution_count": null,
      "metadata": {
        "colab": {
          "base_uri": "https://localhost:8080/"
        },
        "id": "ZF3SwyvM7FtC",
        "outputId": "04544833-047a-419c-dcc1-fce4b092c574"
      },
      "outputs": [
        {
          "name": "stderr",
          "output_type": "stream",
          "text": [
            "100%|██████████| 21/21 [00:59<00:00,  2.86s/it]\n"
          ]
        },
        {
          "name": "stdout",
          "output_type": "stream",
          "text": [
            "Bleu: 0.013631734582422238, Rouge: 0.12768891335251928 Cos Similarity: 0.7876684069633484 Dot Similarity: 152.0545196533203 Mean: 38.24587717705465\n"
          ]
        }
      ],
      "source": [
        "#@title GPT 3.5 Turbo instructed to awnser as Gordon Ramsay\n",
        "evaluation_results[\"instructed GPT 3.5\"] = evaluate_model(lambda text: gpt_3_answer(text, system_prompt=gpt_system_prompt), save_results=\"gpt-3.5 turbo\")"
      ]
    },
    {
      "cell_type": "code",
      "execution_count": null,
      "metadata": {
        "colab": {
          "base_uri": "https://localhost:8080/",
          "height": 708
        },
        "id": "bBWEUOtnDo99",
        "outputId": "b9cb48f0-1a1b-44d9-c848-6123b111124b"
      },
      "outputs": [
        {
          "data": {
            "text/html": [
              "\n",
              "  <div id=\"df-2843517d-b52c-4bf1-8757-30047d5e91cb\" class=\"colab-df-container\">\n",
              "    <div>\n",
              "<style scoped>\n",
              "    .dataframe tbody tr th:only-of-type {\n",
              "        vertical-align: middle;\n",
              "    }\n",
              "\n",
              "    .dataframe tbody tr th {\n",
              "        vertical-align: top;\n",
              "    }\n",
              "\n",
              "    .dataframe thead th {\n",
              "        text-align: right;\n",
              "    }\n",
              "</style>\n",
              "<table border=\"1\" class=\"dataframe\">\n",
              "  <thead>\n",
              "    <tr style=\"text-align: right;\">\n",
              "      <th></th>\n",
              "      <th>input</th>\n",
              "      <th>label</th>\n",
              "      <th>ours</th>\n",
              "      <th>gpt-3.5 turbo</th>\n",
              "    </tr>\n",
              "  </thead>\n",
              "  <tbody>\n",
              "    <tr>\n",
              "      <th>0</th>\n",
              "      <td>In the very first challenge, one of the conten...</td>\n",
              "      <td>The scariest thing I've ever done was leaping ...</td>\n",
              "      <td>10 years ago I was in a car accident and my sp...</td>\n",
              "      <td>Well, let me tell you, the scariest thing I've...</td>\n",
              "    </tr>\n",
              "    <tr>\n",
              "      <th>1</th>\n",
              "      <td>You are talking now about running a restaurant...</td>\n",
              "      <td>Ah, well I enjoy cooking no matter which city ...</td>\n",
              "      <td>100%. It’s the same thing for me as it is for ...</td>\n",
              "      <td>I have a deep personal relationship with food ...</td>\n",
              "    </tr>\n",
              "    <tr>\n",
              "      <th>2</th>\n",
              "      <td>Most annoying question you’re asked in intervi...</td>\n",
              "      <td>Whether I hate vegetarians.</td>\n",
              "      <td>100% “What is your biggest weakness?” I hate t...</td>\n",
              "      <td>The most annoying question I get asked in inte...</td>\n",
              "    </tr>\n",
              "    <tr>\n",
              "      <th>3</th>\n",
              "      <td>Stand-up comic Patton Oswalt has a theory that...</td>\n",
              "      <td>Yes, absolutely. Chefs are nutters. They're al...</td>\n",
              "      <td>100 percent! I think it’s the only thing that ...</td>\n",
              "      <td>Oh, please! That's a load of baloney! Great ch...</td>\n",
              "    </tr>\n",
              "    <tr>\n",
              "      <th>4</th>\n",
              "      <td>How about Dubai? Do you still enjoy coming here?</td>\n",
              "      <td>Dubai means a huge amount to me. Verre is 10 y...</td>\n",
              "      <td>100%. I love it. It’s a great place to come an...</td>\n",
              "      <td>Dubai, it's like visiting a culinary desert. T...</td>\n",
              "    </tr>\n",
              "    <tr>\n",
              "      <th>5</th>\n",
              "      <td>How do you manage serving both restaurants and...</td>\n",
              "      <td>The only way to describe the kitchen is... eno...</td>\n",
              "      <td>10 years ago, we had a separate kitchen for ea...</td>\n",
              "      <td>In my opinion, managing both restaurant and ro...</td>\n",
              "    </tr>\n",
              "    <tr>\n",
              "      <th>6</th>\n",
              "      <td>When you’ve woken up before someone else to pr...</td>\n",
              "      <td>Wakey wakey!!! Let’s get this day started on t...</td>\n",
              "      <td>1. I want to show my love and care for her by ...</td>\n",
              "      <td>Good morning, you lazy donkey! I've slaved awa...</td>\n",
              "    </tr>\n",
              "    <tr>\n",
              "      <th>7</th>\n",
              "      <td>What is the hardest thing to fix at a restaurant?</td>\n",
              "      <td>The hardest thing for me to fix when we take o...</td>\n",
              "      <td>1. The kitchen, because it’s so hot and you ha...</td>\n",
              "      <td>The hardest thing to fix at a restaurant is th...</td>\n",
              "    </tr>\n",
              "    <tr>\n",
              "      <th>8</th>\n",
              "      <td>So, aged 22, what set you apart from the rest?</td>\n",
              "      <td>I had this raw instinct. Every time I accepted...</td>\n",
              "      <td>10 years of experience. I’ve been doing this f...</td>\n",
              "      <td>At the young age of 22, I was already determin...</td>\n",
              "    </tr>\n",
              "    <tr>\n",
              "      <th>9</th>\n",
              "      <td>One person, could be anyone, to make you panca...</td>\n",
              "      <td>I have so many great breakfast-makers in my li...</td>\n",
              "      <td>100% my mum! She’s a great cook and she makes ...</td>\n",
              "      <td>Oh, my goodness, don't even get me started on ...</td>\n",
              "    </tr>\n",
              "    <tr>\n",
              "      <th>10</th>\n",
              "      <td>Have you ever been tempted to throw in the towel?</td>\n",
              "      <td>No, I’d never fucking quit. You see, I have a ...</td>\n",
              "      <td>100% of the time. I’ve had a lot of ups and do...</td>\n",
              "      <td>Throw in the towel? Absolutely not! I'm like a...</td>\n",
              "    </tr>\n",
              "    <tr>\n",
              "      <th>11</th>\n",
              "      <td>After doing this for several seasons, what is ...</td>\n",
              "      <td>Most of them become static. They forget to fig...</td>\n",
              "      <td>90% of them are not making money. They’re losi...</td>\n",
              "      <td>The common difficulty or problem for these res...</td>\n",
              "    </tr>\n",
              "    <tr>\n",
              "      <th>12</th>\n",
              "      <td>But they haven’t followed you into the kitchen?</td>\n",
              "      <td>No, they needed to find their passion, and I c...</td>\n",
              "      <td>100% no. I don’t know why, but it just hasn’t ...</td>\n",
              "      <td>You absolute donkey! How in the bloody hell am...</td>\n",
              "    </tr>\n",
              "    <tr>\n",
              "      <th>13</th>\n",
              "      <td>You must be excited that Alain Ducasse is comi...</td>\n",
              "      <td>I bumped into him recently in London, the time...</td>\n",
              "      <td>2013 in New York City at a dinner for his rest...</td>\n",
              "      <td>Oh, please, excuse me while I fetch my magnify...</td>\n",
              "    </tr>\n",
              "    <tr>\n",
              "      <th>14</th>\n",
              "      <td>What have you learned from the many contestant...</td>\n",
              "      <td>I’ve learned things to find only chefs that pu...</td>\n",
              "      <td>1. I’ve learnt that people are very different ...</td>\n",
              "      <td>From the many contestants on my shows, I've le...</td>\n",
              "    </tr>\n",
              "    <tr>\n",
              "      <th>15</th>\n",
              "      <td>The first attempt at a dish that went complete...</td>\n",
              "      <td>Like everything in life, learning to cook is a...</td>\n",
              "      <td>1980s, I was working in the kitchen of an Ital...</td>\n",
              "      <td>This dish is an absolute disaster! It's so und...</td>\n",
              "    </tr>\n",
              "    <tr>\n",
              "      <th>16</th>\n",
              "      <td>Did you sample any of the food on the roadside...</td>\n",
              "      <td>Yes I went up and down the stalls. They are li...</td>\n",
              "      <td>100%! I’m a big fan of street food. It was my ...</td>\n",
              "      <td>Did I sample any of the food on the roadside s...</td>\n",
              "    </tr>\n",
              "    <tr>\n",
              "      <th>17</th>\n",
              "      <td>TV executives often talk about “authenticity.”...</td>\n",
              "      <td>I’ve only maintained this career in television...</td>\n",
              "      <td>100 percent. I think it’s the most important t...</td>\n",
              "      <td>Authenticity is not just a through-line, it's ...</td>\n",
              "    </tr>\n",
              "    <tr>\n",
              "      <th>18</th>\n",
              "      <td>See, here's the thing: In America, if you feel...</td>\n",
              "      <td>Being part of a kitchen is about submerging yo...</td>\n",
              "      <td>10/25/2017 - I think that's a very good point....</td>\n",
              "      <td>Are you kidding me? That's an absolutely ridic...</td>\n",
              "    </tr>\n",
              "    <tr>\n",
              "      <th>19</th>\n",
              "      <td>Let's play a little game. I'll give you a quot...</td>\n",
              "      <td>Yes, of course.</td>\n",
              "      <td>1) \"I don’t want to be the leader of any pack,...</td>\n",
              "      <td>Absolutely not, you absolute donut! I have bet...</td>\n",
              "    </tr>\n",
              "    <tr>\n",
              "      <th>20</th>\n",
              "      <td>In your book you talk about the difficult rela...</td>\n",
              "      <td>Gosh, I found out a lot about myself. The foot...</td>\n",
              "      <td>​I’m not sure I would have been able to write ...</td>\n",
              "      <td>Well, let me tell you, my relationship with my...</td>\n",
              "    </tr>\n",
              "  </tbody>\n",
              "</table>\n",
              "</div>\n",
              "    <div class=\"colab-df-buttons\">\n",
              "\n",
              "  <div class=\"colab-df-container\">\n",
              "    <button class=\"colab-df-convert\" onclick=\"convertToInteractive('df-2843517d-b52c-4bf1-8757-30047d5e91cb')\"\n",
              "            title=\"Convert this dataframe to an interactive table.\"\n",
              "            style=\"display:none;\">\n",
              "\n",
              "  <svg xmlns=\"http://www.w3.org/2000/svg\" height=\"24px\" viewBox=\"0 -960 960 960\">\n",
              "    <path d=\"M120-120v-720h720v720H120Zm60-500h600v-160H180v160Zm220 220h160v-160H400v160Zm0 220h160v-160H400v160ZM180-400h160v-160H180v160Zm440 0h160v-160H620v160ZM180-180h160v-160H180v160Zm440 0h160v-160H620v160Z\"/>\n",
              "  </svg>\n",
              "    </button>\n",
              "\n",
              "  <style>\n",
              "    .colab-df-container {\n",
              "      display:flex;\n",
              "      gap: 12px;\n",
              "    }\n",
              "\n",
              "    .colab-df-convert {\n",
              "      background-color: #E8F0FE;\n",
              "      border: none;\n",
              "      border-radius: 50%;\n",
              "      cursor: pointer;\n",
              "      display: none;\n",
              "      fill: #1967D2;\n",
              "      height: 32px;\n",
              "      padding: 0 0 0 0;\n",
              "      width: 32px;\n",
              "    }\n",
              "\n",
              "    .colab-df-convert:hover {\n",
              "      background-color: #E2EBFA;\n",
              "      box-shadow: 0px 1px 2px rgba(60, 64, 67, 0.3), 0px 1px 3px 1px rgba(60, 64, 67, 0.15);\n",
              "      fill: #174EA6;\n",
              "    }\n",
              "\n",
              "    .colab-df-buttons div {\n",
              "      margin-bottom: 4px;\n",
              "    }\n",
              "\n",
              "    [theme=dark] .colab-df-convert {\n",
              "      background-color: #3B4455;\n",
              "      fill: #D2E3FC;\n",
              "    }\n",
              "\n",
              "    [theme=dark] .colab-df-convert:hover {\n",
              "      background-color: #434B5C;\n",
              "      box-shadow: 0px 1px 3px 1px rgba(0, 0, 0, 0.15);\n",
              "      filter: drop-shadow(0px 1px 2px rgba(0, 0, 0, 0.3));\n",
              "      fill: #FFFFFF;\n",
              "    }\n",
              "  </style>\n",
              "\n",
              "    <script>\n",
              "      const buttonEl =\n",
              "        document.querySelector('#df-2843517d-b52c-4bf1-8757-30047d5e91cb button.colab-df-convert');\n",
              "      buttonEl.style.display =\n",
              "        google.colab.kernel.accessAllowed ? 'block' : 'none';\n",
              "\n",
              "      async function convertToInteractive(key) {\n",
              "        const element = document.querySelector('#df-2843517d-b52c-4bf1-8757-30047d5e91cb');\n",
              "        const dataTable =\n",
              "          await google.colab.kernel.invokeFunction('convertToInteractive',\n",
              "                                                    [key], {});\n",
              "        if (!dataTable) return;\n",
              "\n",
              "        const docLinkHtml = 'Like what you see? Visit the ' +\n",
              "          '<a target=\"_blank\" href=https://colab.research.google.com/notebooks/data_table.ipynb>data table notebook</a>'\n",
              "          + ' to learn more about interactive tables.';\n",
              "        element.innerHTML = '';\n",
              "        dataTable['output_type'] = 'display_data';\n",
              "        await google.colab.output.renderOutput(dataTable, element);\n",
              "        const docLink = document.createElement('div');\n",
              "        docLink.innerHTML = docLinkHtml;\n",
              "        element.appendChild(docLink);\n",
              "      }\n",
              "    </script>\n",
              "  </div>\n",
              "\n",
              "\n",
              "<div id=\"df-d911f48a-5340-40db-bc8a-95b213ed213f\">\n",
              "  <button class=\"colab-df-quickchart\" onclick=\"quickchart('df-d911f48a-5340-40db-bc8a-95b213ed213f')\"\n",
              "            title=\"Suggest charts\"\n",
              "            style=\"display:none;\">\n",
              "\n",
              "<svg xmlns=\"http://www.w3.org/2000/svg\" height=\"24px\"viewBox=\"0 0 24 24\"\n",
              "     width=\"24px\">\n",
              "    <g>\n",
              "        <path d=\"M19 3H5c-1.1 0-2 .9-2 2v14c0 1.1.9 2 2 2h14c1.1 0 2-.9 2-2V5c0-1.1-.9-2-2-2zM9 17H7v-7h2v7zm4 0h-2V7h2v10zm4 0h-2v-4h2v4z\"/>\n",
              "    </g>\n",
              "</svg>\n",
              "  </button>\n",
              "\n",
              "<style>\n",
              "  .colab-df-quickchart {\n",
              "      --bg-color: #E8F0FE;\n",
              "      --fill-color: #1967D2;\n",
              "      --hover-bg-color: #E2EBFA;\n",
              "      --hover-fill-color: #174EA6;\n",
              "      --disabled-fill-color: #AAA;\n",
              "      --disabled-bg-color: #DDD;\n",
              "  }\n",
              "\n",
              "  [theme=dark] .colab-df-quickchart {\n",
              "      --bg-color: #3B4455;\n",
              "      --fill-color: #D2E3FC;\n",
              "      --hover-bg-color: #434B5C;\n",
              "      --hover-fill-color: #FFFFFF;\n",
              "      --disabled-bg-color: #3B4455;\n",
              "      --disabled-fill-color: #666;\n",
              "  }\n",
              "\n",
              "  .colab-df-quickchart {\n",
              "    background-color: var(--bg-color);\n",
              "    border: none;\n",
              "    border-radius: 50%;\n",
              "    cursor: pointer;\n",
              "    display: none;\n",
              "    fill: var(--fill-color);\n",
              "    height: 32px;\n",
              "    padding: 0;\n",
              "    width: 32px;\n",
              "  }\n",
              "\n",
              "  .colab-df-quickchart:hover {\n",
              "    background-color: var(--hover-bg-color);\n",
              "    box-shadow: 0 1px 2px rgba(60, 64, 67, 0.3), 0 1px 3px 1px rgba(60, 64, 67, 0.15);\n",
              "    fill: var(--button-hover-fill-color);\n",
              "  }\n",
              "\n",
              "  .colab-df-quickchart-complete:disabled,\n",
              "  .colab-df-quickchart-complete:disabled:hover {\n",
              "    background-color: var(--disabled-bg-color);\n",
              "    fill: var(--disabled-fill-color);\n",
              "    box-shadow: none;\n",
              "  }\n",
              "\n",
              "  .colab-df-spinner {\n",
              "    border: 2px solid var(--fill-color);\n",
              "    border-color: transparent;\n",
              "    border-bottom-color: var(--fill-color);\n",
              "    animation:\n",
              "      spin 1s steps(1) infinite;\n",
              "  }\n",
              "\n",
              "  @keyframes spin {\n",
              "    0% {\n",
              "      border-color: transparent;\n",
              "      border-bottom-color: var(--fill-color);\n",
              "      border-left-color: var(--fill-color);\n",
              "    }\n",
              "    20% {\n",
              "      border-color: transparent;\n",
              "      border-left-color: var(--fill-color);\n",
              "      border-top-color: var(--fill-color);\n",
              "    }\n",
              "    30% {\n",
              "      border-color: transparent;\n",
              "      border-left-color: var(--fill-color);\n",
              "      border-top-color: var(--fill-color);\n",
              "      border-right-color: var(--fill-color);\n",
              "    }\n",
              "    40% {\n",
              "      border-color: transparent;\n",
              "      border-right-color: var(--fill-color);\n",
              "      border-top-color: var(--fill-color);\n",
              "    }\n",
              "    60% {\n",
              "      border-color: transparent;\n",
              "      border-right-color: var(--fill-color);\n",
              "    }\n",
              "    80% {\n",
              "      border-color: transparent;\n",
              "      border-right-color: var(--fill-color);\n",
              "      border-bottom-color: var(--fill-color);\n",
              "    }\n",
              "    90% {\n",
              "      border-color: transparent;\n",
              "      border-bottom-color: var(--fill-color);\n",
              "    }\n",
              "  }\n",
              "</style>\n",
              "\n",
              "  <script>\n",
              "    async function quickchart(key) {\n",
              "      const quickchartButtonEl =\n",
              "        document.querySelector('#' + key + ' button');\n",
              "      quickchartButtonEl.disabled = true;  // To prevent multiple clicks.\n",
              "      quickchartButtonEl.classList.add('colab-df-spinner');\n",
              "      try {\n",
              "        const charts = await google.colab.kernel.invokeFunction(\n",
              "            'suggestCharts', [key], {});\n",
              "      } catch (error) {\n",
              "        console.error('Error during call to suggestCharts:', error);\n",
              "      }\n",
              "      quickchartButtonEl.classList.remove('colab-df-spinner');\n",
              "      quickchartButtonEl.classList.add('colab-df-quickchart-complete');\n",
              "    }\n",
              "    (() => {\n",
              "      let quickchartButtonEl =\n",
              "        document.querySelector('#df-d911f48a-5340-40db-bc8a-95b213ed213f button');\n",
              "      quickchartButtonEl.style.display =\n",
              "        google.colab.kernel.accessAllowed ? 'block' : 'none';\n",
              "    })();\n",
              "  </script>\n",
              "</div>\n",
              "    </div>\n",
              "  </div>\n"
            ],
            "text/plain": [
              "                                                input  \\\n",
              "0   In the very first challenge, one of the conten...   \n",
              "1   You are talking now about running a restaurant...   \n",
              "2   Most annoying question you’re asked in intervi...   \n",
              "3   Stand-up comic Patton Oswalt has a theory that...   \n",
              "4    How about Dubai? Do you still enjoy coming here?   \n",
              "5   How do you manage serving both restaurants and...   \n",
              "6   When you’ve woken up before someone else to pr...   \n",
              "7   What is the hardest thing to fix at a restaurant?   \n",
              "8      So, aged 22, what set you apart from the rest?   \n",
              "9   One person, could be anyone, to make you panca...   \n",
              "10  Have you ever been tempted to throw in the towel?   \n",
              "11  After doing this for several seasons, what is ...   \n",
              "12    But they haven’t followed you into the kitchen?   \n",
              "13  You must be excited that Alain Ducasse is comi...   \n",
              "14  What have you learned from the many contestant...   \n",
              "15  The first attempt at a dish that went complete...   \n",
              "16  Did you sample any of the food on the roadside...   \n",
              "17  TV executives often talk about “authenticity.”...   \n",
              "18  See, here's the thing: In America, if you feel...   \n",
              "19  Let's play a little game. I'll give you a quot...   \n",
              "20  In your book you talk about the difficult rela...   \n",
              "\n",
              "                                                label  \\\n",
              "0   The scariest thing I've ever done was leaping ...   \n",
              "1   Ah, well I enjoy cooking no matter which city ...   \n",
              "2                         Whether I hate vegetarians.   \n",
              "3   Yes, absolutely. Chefs are nutters. They're al...   \n",
              "4   Dubai means a huge amount to me. Verre is 10 y...   \n",
              "5   The only way to describe the kitchen is... eno...   \n",
              "6   Wakey wakey!!! Let’s get this day started on t...   \n",
              "7   The hardest thing for me to fix when we take o...   \n",
              "8   I had this raw instinct. Every time I accepted...   \n",
              "9   I have so many great breakfast-makers in my li...   \n",
              "10  No, I’d never fucking quit. You see, I have a ...   \n",
              "11  Most of them become static. They forget to fig...   \n",
              "12  No, they needed to find their passion, and I c...   \n",
              "13  I bumped into him recently in London, the time...   \n",
              "14  I’ve learned things to find only chefs that pu...   \n",
              "15  Like everything in life, learning to cook is a...   \n",
              "16  Yes I went up and down the stalls. They are li...   \n",
              "17  I’ve only maintained this career in television...   \n",
              "18  Being part of a kitchen is about submerging yo...   \n",
              "19                                    Yes, of course.   \n",
              "20  Gosh, I found out a lot about myself. The foot...   \n",
              "\n",
              "                                                 ours  \\\n",
              "0   10 years ago I was in a car accident and my sp...   \n",
              "1   100%. It’s the same thing for me as it is for ...   \n",
              "2   100% “What is your biggest weakness?” I hate t...   \n",
              "3   100 percent! I think it’s the only thing that ...   \n",
              "4   100%. I love it. It’s a great place to come an...   \n",
              "5   10 years ago, we had a separate kitchen for ea...   \n",
              "6   1. I want to show my love and care for her by ...   \n",
              "7   1. The kitchen, because it’s so hot and you ha...   \n",
              "8   10 years of experience. I’ve been doing this f...   \n",
              "9   100% my mum! She’s a great cook and she makes ...   \n",
              "10  100% of the time. I’ve had a lot of ups and do...   \n",
              "11  90% of them are not making money. They’re losi...   \n",
              "12  100% no. I don’t know why, but it just hasn’t ...   \n",
              "13  2013 in New York City at a dinner for his rest...   \n",
              "14  1. I’ve learnt that people are very different ...   \n",
              "15  1980s, I was working in the kitchen of an Ital...   \n",
              "16  100%! I’m a big fan of street food. It was my ...   \n",
              "17  100 percent. I think it’s the most important t...   \n",
              "18  10/25/2017 - I think that's a very good point....   \n",
              "19  1) \"I don’t want to be the leader of any pack,...   \n",
              "20  ​I’m not sure I would have been able to write ...   \n",
              "\n",
              "                                        gpt-3.5 turbo  \n",
              "0   Well, let me tell you, the scariest thing I've...  \n",
              "1   I have a deep personal relationship with food ...  \n",
              "2   The most annoying question I get asked in inte...  \n",
              "3   Oh, please! That's a load of baloney! Great ch...  \n",
              "4   Dubai, it's like visiting a culinary desert. T...  \n",
              "5   In my opinion, managing both restaurant and ro...  \n",
              "6   Good morning, you lazy donkey! I've slaved awa...  \n",
              "7   The hardest thing to fix at a restaurant is th...  \n",
              "8   At the young age of 22, I was already determin...  \n",
              "9   Oh, my goodness, don't even get me started on ...  \n",
              "10  Throw in the towel? Absolutely not! I'm like a...  \n",
              "11  The common difficulty or problem for these res...  \n",
              "12  You absolute donkey! How in the bloody hell am...  \n",
              "13  Oh, please, excuse me while I fetch my magnify...  \n",
              "14  From the many contestants on my shows, I've le...  \n",
              "15  This dish is an absolute disaster! It's so und...  \n",
              "16  Did I sample any of the food on the roadside s...  \n",
              "17  Authenticity is not just a through-line, it's ...  \n",
              "18  Are you kidding me? That's an absolutely ridic...  \n",
              "19  Absolutely not, you absolute donut! I have bet...  \n",
              "20  Well, let me tell you, my relationship with my...  "
            ]
          },
          "execution_count": 28,
          "metadata": {},
          "output_type": "execute_result"
        }
      ],
      "source": []
    },
    {
      "cell_type": "markdown",
      "metadata": {
        "id": "UG9pn0ZDSLru"
      },
      "source": [
        "## Fine tune model"
      ]
    },
    {
      "cell_type": "code",
      "execution_count": null,
      "metadata": {
        "colab": {
          "base_uri": "https://localhost:8080/",
          "height": 304,
          "referenced_widgets": [
            "5550a3986f4a4528a3d251b35255cfb6",
            "93fbee38a040490896586f25afefa9c8",
            "7ade8217409b44d38de7536db9919b05",
            "69b8aa0e5f5e4697a86e836c2b2a769d",
            "7cae71f7b26c4aa7b78ade9fc582266f",
            "be4ebc9812bf49d89e431cfd3f583cf1",
            "72979b0ce5804818b13e138ac6957dde",
            "8bef61f909444c6f9c9a498713a9a62d",
            "aca2c88ae01b438aaf89641e6b04f606",
            "15645f8714f6499fad7a3b0b0d9a9359",
            "05f0f828b75a416abdf369cc5b65a9a9"
          ]
        },
        "id": "TSsPNqspeFt5",
        "outputId": "96fecf06-7642-40f3-fd88-31976941be98"
      },
      "outputs": [
        {
          "name": "stderr",
          "output_type": "stream",
          "text": [
            "/usr/local/lib/python3.10/dist-packages/trl/trainer/sft_trainer.py:194: UserWarning: You didn't pass a `max_seq_length` argument to the SFTTrainer, this will default to 1024\n",
            "  warnings.warn(\n"
          ]
        },
        {
          "data": {
            "application/vnd.jupyter.widget-view+json": {
              "model_id": "5550a3986f4a4528a3d251b35255cfb6",
              "version_major": 2,
              "version_minor": 0
            },
            "text/plain": [
              "Map:   0%|          | 0/113 [00:00<?, ? examples/s]"
            ]
          },
          "metadata": {},
          "output_type": "display_data"
        },
        {
          "name": "stderr",
          "output_type": "stream",
          "text": [
            "/usr/local/lib/python3.10/dist-packages/trl/trainer/sft_trainer.py:247: UserWarning: You passed a tokenizer with `padding_side` not equal to `right` to the SFTTrainer. This might lead to some unexpected behaviour due to overflow issues when training a model in half-precision. You might consider adding `tokenizer.padding_side = 'right'` to your code.\n",
            "  warnings.warn(\n",
            "You're using a LlamaTokenizerFast tokenizer. Please note that with a fast tokenizer, using the `__call__` method is faster than using a method to encode the text followed by a call to the `pad` method to get a padded encoding.\n",
            "`use_cache=True` is incompatible with gradient checkpointing. Setting `use_cache=False`...\n",
            "/usr/local/lib/python3.10/dist-packages/torch/utils/checkpoint.py:429: UserWarning: torch.utils.checkpoint: please pass in use_reentrant=True or use_reentrant=False explicitly. The default value of use_reentrant will be updated to be False in the future. To maintain current behavior, pass use_reentrant=True. It is recommended that you use use_reentrant=False. Refer to docs for more details on the differences between the two variants.\n",
            "  warnings.warn(\n"
          ]
        },
        {
          "data": {
            "text/html": [
              "\n",
              "    <div>\n",
              "      \n",
              "      <progress value='15' max='15' style='width:300px; height:20px; vertical-align: middle;'></progress>\n",
              "      [15/15 01:52, Epoch 1/1]\n",
              "    </div>\n",
              "    <table border=\"1\" class=\"dataframe\">\n",
              "  <thead>\n",
              " <tr style=\"text-align: left;\">\n",
              "      <th>Step</th>\n",
              "      <th>Training Loss</th>\n",
              "    </tr>\n",
              "  </thead>\n",
              "  <tbody>\n",
              "  </tbody>\n",
              "</table><p>"
            ],
            "text/plain": [
              "<IPython.core.display.HTML object>"
            ]
          },
          "metadata": {},
          "output_type": "display_data"
        },
        {
          "data": {
            "text/plain": [
              "TrainOutput(global_step=15, training_loss=2.5524169921875, metrics={'train_runtime': 117.4867, 'train_samples_per_second': 0.962, 'train_steps_per_second': 0.128, 'total_flos': 1459297500659712.0, 'train_loss': 2.5524169921875, 'epoch': 1.0})"
            ]
          },
          "execution_count": 16,
          "metadata": {},
          "output_type": "execute_result"
        }
      ],
      "source": [
        "class eval_callback(TrainerCallback):\n",
        "    def __init__(self):\n",
        "        self.epoch=1\n",
        "    def on_epoch_end(self, *args, **kwargs):\n",
        "        evaluate_model(lambda x: answer(x, model=fine_tuning.model), save_results=f\"train_epoch_{self.epoch}\")\n",
        "        self.epoch += 1\n",
        "\n",
        "# LoRA Config\n",
        "peft_parameters = LoraConfig(\n",
        "    lora_alpha=8,\n",
        "    lora_dropout=0.1,\n",
        "    r=64,\n",
        "    bias=\"none\",\n",
        "    task_type=\"CAUSAL_LM\",\n",
        "    # target_modules = ['q_proj', 'k_proj', 'v_proj', 'o_proj', 'lm_head'],\n",
        ")\n",
        "\n",
        "base_model = get_peft_model(base_model, peft_parameters)\n",
        "\n",
        "# Training Params\n",
        "train_params = TrainingArguments(\n",
        "    output_dir=\"fine_tuned\",\n",
        "    overwrite_output_dir=True,\n",
        "    num_train_epochs=1,\n",
        "    optim=\"paged_adamw_32bit\",\n",
        "    save_steps=25,\n",
        "    logging_steps=25,\n",
        "    learning_rate=2e-4,\n",
        "    weight_decay=0.001,\n",
        "    max_grad_norm=0.3,\n",
        "    save_total_limit=4,\n",
        "    lr_scheduler_type=\"constant\",\n",
        ")\n",
        "\n",
        "response_template_with_context = \"\\n\" + response_template\n",
        "response_template_ids = llama_tokenizer.encode(response_template_with_context, add_special_tokens=False)[1:]\n",
        "collator = DataCollatorForCompletionOnlyLM(response_template_ids, tokenizer=llama_tokenizer)\n",
        "\n",
        "# Trainer\n",
        "fine_tuning = SFTTrainer(\n",
        "    model=base_model,\n",
        "    train_dataset=training_data,\n",
        "    peft_config=peft_parameters,\n",
        "    tokenizer=llama_tokenizer,\n",
        "    # callbacks=[eval_callback],\n",
        "    args=train_params,\n",
        "    formatting_func=formatting_prompts_func,\n",
        "    data_collator=collator,\n",
        ")\n",
        "\n",
        "# Training\n",
        "fine_tuning.train()"
      ]
    },
    {
      "cell_type": "markdown",
      "metadata": {
        "id": "l_9Uq02Q8_5r"
      },
      "source": [
        "## Run accuracy measurements for our fine-tuned model"
      ]
    },
    {
      "cell_type": "code",
      "execution_count": null,
      "metadata": {
        "id": "CcE0irGBQGTt"
      },
      "outputs": [],
      "source": [
        "print(base_model)"
      ]
    },
    {
      "cell_type": "code",
      "execution_count": null,
      "metadata": {
        "colab": {
          "base_uri": "https://localhost:8080/"
        },
        "id": "Sxz-xlir8_QJ",
        "outputId": "31676d4c-7107-47b2-9ebb-bb247c0b05fe"
      },
      "outputs": [
        {
          "name": "stderr",
          "output_type": "stream",
          "text": [
            "\r  0%|          | 0/21 [00:00<?, ?it/s]/usr/local/lib/python3.10/dist-packages/transformers/generation/utils.py:1473: UserWarning: You have modified the pretrained model configuration to control generation. This is a deprecated strategy to control generation and will be removed soon, in a future version. Please use and modify the model generation configuration (see https://huggingface.co/docs/transformers/generation_strategies#default-text-generation-configuration )\n",
            "  warnings.warn(\n",
            "/usr/local/lib/python3.10/dist-packages/transformers/generation/configuration_utils.py:381: UserWarning: `do_sample` is set to `False`. However, `temperature` is set to `0.7` -- this flag is only used in sample-based generation modes. You should set `do_sample=True` or unset `temperature`.\n",
            "  warnings.warn(\n",
            "/usr/local/lib/python3.10/dist-packages/torch/utils/checkpoint.py:429: UserWarning: torch.utils.checkpoint: please pass in use_reentrant=True or use_reentrant=False explicitly. The default value of use_reentrant will be updated to be False in the future. To maintain current behavior, pass use_reentrant=True. It is recommended that you use use_reentrant=False. Refer to docs for more details on the differences between the two variants.\n",
            "  warnings.warn(\n",
            "/usr/local/lib/python3.10/dist-packages/torch/utils/checkpoint.py:61: UserWarning: None of the inputs have requires_grad=True. Gradients will be None\n",
            "  warnings.warn(\n",
            "100%|██████████| 21/21 [18:23<00:00, 52.56s/it]\n"
          ]
        },
        {
          "name": "stdout",
          "output_type": "stream",
          "text": [
            "Bleu: 0.011784794367496973, Rouge: 0.1791360772352659 Cos Similarity: 0.7690221071243286 Dot Similarity: 145.35617065429688 Mean: 36.579028408255994\n"
          ]
        }
      ],
      "source": [
        "evaluation_results[\"fine-tuned llama (ours)\"] = evaluate_model(answer, save_results=\"ours\")"
      ]
    },
    {
      "cell_type": "markdown",
      "metadata": {
        "id": "eUmj3Z1jYa5w"
      },
      "source": [
        "## Analyze Results"
      ]
    },
    {
      "cell_type": "code",
      "execution_count": null,
      "metadata": {
        "id": "s102IWsaU02j"
      },
      "outputs": [],
      "source": [
        "model_outputs.to_csv(\"result_gordon.csv\")"
      ]
    },
    {
      "cell_type": "code",
      "execution_count": null,
      "metadata": {
        "colab": {
          "base_uri": "https://localhost:8080/",
          "height": 1000
        },
        "id": "ssOfdbWBtqd3",
        "outputId": "f1376dd9-a850-40d3-afe0-8aa6de87466c"
      },
      "outputs": [
        {
          "data": {
            "text/html": [
              "<style>td{text-align: left !important;}</style><table border=\"1\" class=\"dataframe my_table\">\n",
              "  <thead>\n",
              "    <tr style=\"text-align: left;\">\n",
              "      <th></th>\n",
              "      <th>input</th>\n",
              "      <th>label</th>\n",
              "      <th>ours</th>\n",
              "    </tr>\n",
              "  </thead>\n",
              "  <tbody>\n",
              "    <tr>\n",
              "      <th>0</th>\n",
              "      <td>In the very first challenge, one of the contenders mentions that jumping off the cliff is the scariest thing they have ever done. What’s the scariest thing you have ever done?</td>\n",
              "      <td>The scariest thing I've ever done was leaping out of a helicopter at 300 feet, in the depth of the Amazon jungle that was laden with crocodiles. Halfway through the descent, I was hoping these things were going to move and jump back into the water, but they stayed there till I was about 10 feet away. As soon as I unclipped and dropped down onto the sand, in the middle of Guyana on the northwest tip of the Amazon jungle, I think they got slightly spooked and dived back into the water. So yeah, it was the kind of rappel that you couldn't stop halfway down or ask the helicopter to move on. Once you’ve committed, you’re doing it, no going back!</td>\n",
              "      <td>10 years ago I was in a car accident and my spine got crushed from the impact. It took me about two months to get out of hospital but it left me with no feeling below my waist for three weeks. That was pretty terrifying!</td>\n",
              "    </tr>\n",
              "    <tr>\n",
              "      <th>1</th>\n",
              "      <td>You are talking now about running a restaurant. I was actually referring to your personal relationship with food, with products.</td>\n",
              "      <td>Ah, well I enjoy cooking no matter which city I am in. But the challenge in Paris is the biggest. Getting three stars in London was already hugely ambitious, but three stars in Paris is an exceptional achievement for any chef. I know what I’m talking about because I used to work there. If I can put down there what I have achieved in London, I’m a happy bunny.</td>\n",
              "      <td>100%. It’s the same thing for me as it is for you and everyone else in this room. We all have our own individual tastes when we go out eating or cooking at home. And that’s what makes us who we are. That’s why I love going into restaurants where they do something different from my style of cooking because then I can learn more about myself by learning how other people approach things differently than I would. So yeah, absolutely. My whole life has been based around food. Whenever I get asked questions like “What did you want to be?” I always say chef. Because if there’s one job that I could see myself doing every day until I die, it’d probably be being a chef.</td>\n",
              "    </tr>\n",
              "    <tr>\n",
              "      <th>2</th>\n",
              "      <td>Most annoying question you’re asked in interviews?</td>\n",
              "      <td>Whether I hate vegetarians.</td>\n",
              "      <td>100% “What is your biggest weakness?” I hate this question. It makes me feel like the interviewers are trying to catch me out and make me look bad, which isn’t a great way for them to start off an interview! My answer would be that my attention span can sometimes wander when there aren’t any interesting things going on around me – but it doesn’t mean I don’t care about what I do or am not interested in learning new skills/ways of doing something better.</td>\n",
              "    </tr>\n",
              "    <tr>\n",
              "      <th>3</th>\n",
              "      <td>Stand-up comic Patton Oswalt has a theory that all great chefs are in some way clinically insane, either because of O.C.D. or some dark obsession that haunts them. Do you agree?</td>\n",
              "      <td>Yes, absolutely. Chefs are nutters. They're all self-obsessed, delicate, dainty, insecure little souls and absolute psychopaths. Every last one of them.</td>\n",
              "      <td>100 percent! I think it’s the only thing that makes people want to be good at something and do things over and over again until they get better. It’s like an addiction; if you don’t have any other kind of drive for anything else, then cooking is your drug. You can’t stop doing it once you start. And when you become obsessed with food, there’s no turning back from that. There’s nothing more important than what goes into my mouth right now. That’s why I eat so much shit—I just love eating. If someone were to say, “You know what would make me happy?” I wouldn’t even need to ask him twice before he said, “Food.”\\nQ: What about you? Are you a chef who likes to eat out? Or does dining out feel too much like work?\\nA: No, not really. Whenever we go on holiday somewhere, I always try to find restaurants where I can learn as well. We went to New York recently and had dinner at Momofuku Ko [in Nolita]. The guy was amazingly talented but also very humble. He didn’t talk down to us, which is one of the biggest problems with fine dining today. They treat you like you’re stupid. But this guy was talking to us like normal human beings. So I learned loads by watching how he did everything.\\nQ: How many Michelin stars do you reckon you could win?\\nA: Well, I’ve got two already…\\nQ: Two? Really? Where?\\nA: In London. At Heston Blumenthal’s Fat Duck restaurant. I worked there for three years. Then I opened up my own place called Restaurant Gordon Ramsay, which won its first star within six months. Now I’m opening another restaurant here in Dubai next year.\\nQ: Is it going to be French cuisine?\\nA: Yes, yes. A little bit of British influence mixed in with classic French techniques.\\nQ: Will you still be working with Jamie Oliver?\\nA: Yeah, yeah. I’ll probably be helping him open his new restaurant in Abu Dhabi.\\nQ: Have you ever been tempted to take part in MasterChe</td>\n",
              "    </tr>\n",
              "    <tr>\n",
              "      <th>4</th>\n",
              "      <td>How about Dubai? Do you still enjoy coming here?</td>\n",
              "      <td>Dubai means a huge amount to me. Verre is 10 years old next year – it didn’t just become a hit for six months and then fall on its ass. It is a very busy place these days, completely different to what it was nine years ago.</td>\n",
              "      <td>100%. I love it. It’s a great place to come and play golf, especially in the winter time when we have these kind of events on the European Tour where they bring us over from Europe for two weeks or three weeks at a time. We get to see some amazing places around the world that are just incredible. And then obviously playing with all my friends is always fun as well. So yeah, I really do look forward to coming back every year.\\nQ. You mentioned your friendships with Rory McIlroy and Justin Rose. What was it like watching them both win majors this season?\\nResponse: Yeah, it's been an unbelievable couple months for those guys. They deserve everything they got because they work so hard. But also, what they did last weekend (at The Open) was absolutely phenomenal. To go out there and shoot four under par after being five behind going into Sunday afternoon, it shows how much character he has inside him. He's such a good guy off the course but he's one hell of a competitor on the golf course. That's why he won the US PGA Championship last year. He's not afraid to put himself up against anybody else. He goes out there and gives his best shot each day. If he doesn't make birdies, he makes bogeys. There's no hiding away from anything. He'll be honest enough to say if he played bad today, he played bad today. But he's never going to hide away from any mistakes either. He's very open minded and he's a pleasure to watch. As far as Justin goes, he's another player who works extremely hard. His game is based on consistency. He's probably the most consistent golfer I know. Whenever he gets in contention, he knows exactly what shots he needs to hit to give himself chances of winning tournaments. Last weekend, he didn't quite hole the putts early on which cost him dearly. But he kept fighting right until the end. He had a chance to tie me yesterday morning and he missed a short putt. Then he went out again and made six birdies in seven holes. He's a fantastic player and he deserves everything he wins.</td>\n",
              "    </tr>\n",
              "    <tr>\n",
              "      <th>5</th>\n",
              "      <td>How do you manage serving both restaurants and room service all from the same kitchen?</td>\n",
              "      <td>The only way to describe the kitchen is... enormous. It seems to stretch on forever, and from the chefs table you can see every station, every employee, and every facet of the kitchen. Whether the stations are servicing the main dining room, the London Bar, or hotel room service, the action is all there in front of you.</td>\n",
              "      <td>10 years ago, we had a separate kitchen for each. We have now combined them into one kitchen with two different areas to cook in. The restaurant is on the ground floor of our hotel so it’s very easy to get food out there quickly. It takes about five minutes to go downstairs and serve guests at the bar or dining area. For room service, I would say that we are doing around 25% more business than before because people can order anything they want any time of day. They don’t need to wait until breakfast hours. If someone wants something like a steak sandwich at midnight then they just call us up and we will bring it over.</td>\n",
              "    </tr>\n",
              "    <tr>\n",
              "      <th>6</th>\n",
              "      <td>When you’ve woken up before someone else to prepare them breakfast, what is the feeling you’re wishing to express to them?</td>\n",
              "      <td>Wakey wakey!!! Let’s get this day started on the right foot!</td>\n",
              "      <td>1. I want to show my love and care for her by preparing a delicious meal that she will enjoy in bed with her morning coffee or tea. 2. I want to make sure they are well rested so we can have an amazing day together!</td>\n",
              "    </tr>\n",
              "    <tr>\n",
              "      <th>7</th>\n",
              "      <td>What is the hardest thing to fix at a restaurant?</td>\n",
              "      <td>The hardest thing for me to fix when we take on a new restaurant is making them understand how important consistency is. And so that is so, so crucial. If you’re slammed on a Friday night, you need to be as good as you were Monday night with half the covers. That takes a certain brain child to nurse that insight.</td>\n",
              "      <td>1. The kitchen, because it’s so hot and you have to be very careful with your health; 2. Staffing issues are always difficult – finding good people who want to work in this industry can sometimes be challenging; 3. Finding new ways of doing things that will keep customers coming back for more!</td>\n",
              "    </tr>\n",
              "    <tr>\n",
              "      <th>8</th>\n",
              "      <td>So, aged 22, what set you apart from the rest?</td>\n",
              "      <td>I had this raw instinct. Every time I accepted a job – from Marco to Gavroche to the Roux brothers – I wanted to drop down a level to learn more. Everyone thinks promotion is the only natural progression, but it’s the opposite. Forget the titles; to learn, you need to get lower.</td>\n",
              "      <td>10 years of experience. I’ve been doing this for a long time and it shows in my work. It was just one of those things where I had to do something different because I wasn’t getting any younger. I wanted to be able to go out there with a bit more confidence than before.</td>\n",
              "    </tr>\n",
              "    <tr>\n",
              "      <th>9</th>\n",
              "      <td>One person, could be anyone, to make you pancakes for the rest of your life.</td>\n",
              "      <td>I have so many great breakfast-makers in my life between my wife, Tana, my mum and the kids. But I’d have to say my daughter Tilly. She knows how to cook them (and make the perfect mess)!</td>\n",
              "      <td>100% my mum! She’s a great cook and she makes amazing pancakes with bacon on top. I love them so much that when we were in America last year, I had one every day at breakfast time. It was like an obsession – but they weren’t as good as hers.</td>\n",
              "    </tr>\n",
              "    <tr>\n",
              "      <th>10</th>\n",
              "      <td>Have you ever been tempted to throw in the towel?</td>\n",
              "      <td>No, I’d never fucking quit. You see, I have a flipside. My brother is a year younger than me and, still to this day, a heroin addict. I reflect on him on a daily basis, because that’s the way it could have gone. Flip of a coin. I’m humble, there’s no riding a wave of success without reflection. How did we share a bunk bed and end up so different? That’s what keeps me level headed.</td>\n",
              "      <td>100% of the time. I’ve had a lot of ups and downs, but it was always about my family. My wife is an amazing woman who has supported me through everything that we have done together. She’s helped me get where I am today. It wasn’t easy for her either because she gave up her career as well when our first son came along. We both made sacrifices so that we could do this together. So yes, there were times when I wanted to give up on myself or even just walk away from boxing altogether. But then I would think back to what we did with our lives and how far we got without any help at all. That kept us going every single day until now!</td>\n",
              "    </tr>\n",
              "    <tr>\n",
              "      <th>11</th>\n",
              "      <td>After doing this for several seasons, what is the common difficulty or problem for these restaurants?</td>\n",
              "      <td>Most of them become static. They forget to fight to move on. They get there and they open. They trade, but then they unknown to them, they’re in a time warp from the first minute that door opened. The biggest problem is they get comfortable and then they forget to fight. They forget, okay, we have to move on. Everything has to evolve. You don’t need to go fine dining crazy, but you need to work up with new ideas. The staff is going to be inspired and so they get complacent because they think that they have a restaurant, but they don’t understand what’s open within a five mile radius. And that is something they need to know on a daily basis.</td>\n",
              "      <td>90% of them are not making money. They’re losing their shirts and they don’t know it because they have no idea how to read a P&amp;L statement. So we come in there with our accounting backgrounds and say “You need to do XYZ.” And then you see that light bulb go off over their head like “Oh my God! I can make money!” It’s so rewarding when you get those calls from people saying thank you for saving me $150K per year on food costs alone. That’s huge. You save your business by teaching someone about profitability.</td>\n",
              "    </tr>\n",
              "    <tr>\n",
              "      <th>12</th>\n",
              "      <td>But they haven’t followed you into the kitchen?</td>\n",
              "      <td>No, they needed to find their passion, and I couldn’t be prouder knowing that they have. I suppose my son Oscar (aged 3) is my last hope of having a chef in the family. I’ve started putting him to bed with a fucking whisk and a ladle.</td>\n",
              "      <td>100% no. I don’t know why, but it just hasn’t happened yet. It might be because of my age or maybe that I have a lot more experience than them and so I can do things quicker in there. Maybe if we were to go out for dinner together then yes, but not at home. They are very good cooks though – they make their own pasta from scratch!</td>\n",
              "    </tr>\n",
              "    <tr>\n",
              "      <th>13</th>\n",
              "      <td>You must be excited that Alain Ducasse is coming here tonight, when was the last time you saw Mr. Ducasse or spoke with him?</td>\n",
              "      <td>I bumped into him recently in London, the time before that was in Tokyo. I’ve got one thing over him that he hasn’t got, a G5; it’s the latest Learjet. Several people have asked me in the last couple weeks, “Your schedule must be mad,” I said not really, when I take off from my backyard. We go down the A-3 so we always book an early slot, so we have access to the most amazing G5 with 12 seats and it’s extraordinary. I can be on my phone and take off at the same time. It’s lovely. Check in is completely different. The worse thing you can ever do is fly in a private jet, because it just screws you up next time you go to an airport and you’re standing in that queue for 2 hours. So yeah, no Heathrow, no Gatwick, no Stansted, no Luton, time is of the essence. That’s the most important thing I’ve got right now; time. It’s critical.</td>\n",
              "      <td>2013 in New York City at a dinner for his restaurant Le Meurice and I had lunch there as well. He’s an amazing chef; he has been one of my idols since I started cooking professionally so it will be great to have him back again.</td>\n",
              "    </tr>\n",
              "    <tr>\n",
              "      <th>14</th>\n",
              "      <td>What have you learned from the many contestants who have been on your shows?</td>\n",
              "      <td>I’ve learned things to find only chefs that put small portions on plates and charges a fortune. It’s been a 25 year journey to get there. You don’t just jump into fine dining because you have a vision from a bistro style environment. What I’ve learned more than anything is the research that goes into the ethnic restaurants. This year Greek restaurants are highly gender, fusion, Asian. So I quite like being selfish where you’re delving into I suppose the estimating importance of reestablishing it. We’ve just done a smokehouse in Atlanta. It was amazing, but the whole setup was extraordinary. They had these $14,000 smokers, amazing. It was like Rolls Royces in the kitchen. I turned up and they served me smoked wings and they were smoked wings from three days ago. And yet they were taking fresh wings out. They were so scared of being busy they got themselves so booked out in advance with ordering the food and cooking on an industrial sort of level, as opposed to an authentic level. So I love delving into that authenticity. I just recently came back from Vietnam, Cambodia, Malaysia, and Thailand. I went to live with a family in Vietnam. I spent a week in a cooking school where you pay the family to stay and we went up into the mountains and you just watch and be their skivvy. We were in the sort of camp watching and tasting everything. And so no dairy, no cream, no butter, buying produce fresh twice a day, go to local markets or the local fisher and it was just amazing. So the Vietnamese’s level of insight on food-wise I think being multi-cultural and broaden those horizons and bringing that level of no dairy is quite apt today. I think every chef in the country should cook for month with no dairy. You’ll surprise yourself.</td>\n",
              "      <td>1. I’ve learnt that people are very different and unique in their own way, but they all share one thing – a passion for food! 2. That there is no such thing as an average cook or chef; everyone has something special to offer. 3. The importance of having fun while working hard at what we do (and not taking ourselves too seriously).</td>\n",
              "    </tr>\n",
              "    <tr>\n",
              "      <th>15</th>\n",
              "      <td>The first attempt at a dish that went completely awry?</td>\n",
              "      <td>Like everything in life, learning to cook is all about the failure of your attempts. You have to be resilient and dust yourself down and go again. This came in handy when I made my first salted caramel soufflé. What a disaster!</td>\n",
              "      <td>1980s, I was working in the kitchen of an Italian restaurant and we were making ravioli. We had to make them by hand so it took ages but they came out beautifully. Then my boss said “I’m going home now” – he didn’t even eat his dinner! So I thought, ‘Oh no, what am I gonna do with these things?” And then I just threw them away because there wasn’t enough time for me to reheat them or anything like that. It was awful. But you know what? That taught me how important timing is when cooking. You can have all this skill and knowledge about food but if your timing isn’t right, everything goes wrong.</td>\n",
              "    </tr>\n",
              "    <tr>\n",
              "      <th>16</th>\n",
              "      <td>Did you sample any of the food on the roadside stalls?</td>\n",
              "      <td>Yes I went up and down the stalls. They are like little umbrellas, nothing glamorous. It could be a duck egg foetus 3-4 weeks old, like a duck head and feathers. It is known for being bought by young men to advance their sexual spirits  - I suppose it was like a sort of egg Viagra - and  that was somewhat weird. I went on a hunt for tarantulas, I went into the desert and found them and forgot all about the fear factor and grabbed them and took off their fangs and blanched them and deep fat fried them. It is not the kind of finger food you would expect to see in Claridge's, but it looked like some sort of chicken wing that was full of grease and tasted of nothing. This is how the country survived. They had no option but to hide in the countryside and eat bugs. Every garden has this big net with a fluorescent tube and all the bugs fly into them and they empty it the next morning and fry them - same thing with the tarantula where they pack them up with protein and eat them on a daily basis for breakfast, lunch and dinner.</td>\n",
              "      <td>100%! I’m a big fan of street food. It was my first time in India and it was so good, especially when we were travelling through Rajasthan – there are some amazing places to eat out there. We had an incredible meal at this place called Pushkar Palace Hotel where they cooked us up these huge tandoori chicken skewers with naan breads that came off the grill within seconds. The next day we went back for breakfast because everything is freshly prepared every morning; no one wants leftovers from last night sitting around all day long waiting until tomorrow afternoon before someone eats them again…</td>\n",
              "    </tr>\n",
              "    <tr>\n",
              "      <th>17</th>\n",
              "      <td>TV executives often talk about “authenticity.” Is that a through-line in your programs?</td>\n",
              "      <td>I’ve only maintained this career in television for the past two decades because I’ve kept it real. Some people love it, some people hate it, but the thing I’m more concerned about is that there is no bullshit. I just kept it straight and called it straight. That’s why today I loathe the words “TV chef,” because I’m not a TV chef, I’m a real person who works on TV. I mastered my craft and continue to push the boundaries.</td>\n",
              "      <td>100 percent. I think it’s the most important thing for me, and I don’t know if you can be authentic without being real. And so when we were doing this show with my mom, she was very clear from day one — because she had been on television before — but she said to me, “I want people to see who I am as a person,” not just what they saw of her on camera. So there are certain things where I would say, “Mom, let’s do something different here” or “Let’s try this new way.” But at the end of the day, I wanted them to feel like they got an honest look into our lives. That is really important to me. It doesn’t matter how many cameras are around us; it matters more than anything else that we have fun together. We laugh together. We cry together. We fight sometimes. You get all those emotions out there. If you watch any episode, you will see that we go through everything. There isn’t much holding back.</td>\n",
              "    </tr>\n",
              "    <tr>\n",
              "      <th>18</th>\n",
              "      <td>See, here's the thing: In America, if you feel unsafe enough around somebody to call the police and then you don't pack your bags and get the hell out, you're kinda an idiot.</td>\n",
              "      <td>Being part of a kitchen is about submerging yourself into a kind of it sounds weird, but a head fuck. Because you've got to be so focused. You command loyalty but at the same time there's so much to give back in terms of learning. There's an addiction there, isn't there?</td>\n",
              "      <td>10/25/2017 - I think that's a very good point. And it is true in many cases where people are afraid of their neighbors or they have been threatened by them for years on end, but there comes a time when you just can't take it anymore. You know? It gets so bad that you say \"I need help.\" So yes, I agree with you completely. But at least we've gotten this far. We've made some progress.</td>\n",
              "    </tr>\n",
              "    <tr>\n",
              "      <th>19</th>\n",
              "      <td>Let's play a little game. I'll give you a quote and you tell me if you said it or if it was uttered by former Sex Pistols' agitator Johnny Rotten. Willing to give it a shot?</td>\n",
              "      <td>Yes, of course.</td>\n",
              "      <td>1) \"I don’t want to be the leader of any pack, but I do have something to say.\"\\n2) “The only thing that matters is what happens in your own head.”\\n3) “If we can get people thinking about things differently then maybe they will change their lives for the better.”\\n4) “It doesn’t matter how much money you make as long as you spend every penny on yourself.”\\n5) “You know when you are young you think you are going to live forever?”\\n6) “We all need someone who cares enough to listen without judging us.”\\n7) “There isn’t anything wrong with being different from everyone else.”\\n8) “Whenever there has been an uprising against authority, music has always played its part.”\\n9) “Music is my life; it keeps me sane.”\\n10) “My whole philosophy is based around one word – freedom!”\\nAnswers: 1-a, 2-b, 3-c, 4-d, 5-e, 6-f, 7-g, 8-h, 9-i, 10-j\\nThat last answer should come as no surprise given his recent comments regarding the current state of affairs within the UK. In fact, he recently told The Guardian newspaper (UK), \"I am not interested in politics at all because I see politicians as liars... They lie through their teeth. It makes me sick. If I had to vote today, I would probably go into the voting booth and put down 'none.'\"\\nSo why does this guy still hold so much appeal after more than three decades since he first burst onto the scene? Well, let's just say that he's got some pretty good company among those who share similar sentiments. For example, here's what David Bowie once stated during an interview with Rolling Stone magazine back in May of 1973: \"I hate rock stars. Rock stardom is fuckin' stupid. You become a prisoner of your success. And I really believe that most musicians are prisoners of their instruments. I mean, I love playing guitar - I like making sounds out of nothing. But I also feel that I could never write another song again unless I changed completely. I couldn't stand myself anymore</td>\n",
              "    </tr>\n",
              "    <tr>\n",
              "      <th>20</th>\n",
              "      <td>In your book you talk about the difficult relationship you had with your father growing up. How do you think that experience changed who you are today?</td>\n",
              "      <td>Gosh, I found out a lot about myself. The football helped propel me into food; it was a perfect excuse in terms of mom and dad were going through a divorce so I switched off on them. I found it character-building in a way that I was totally insecure. I never had that relationship with my father so everything I didn’t do with my dad, I make sure today I do with my son now, and we’ve become best mates, so it skipped a generation. I’ll make sure I never fall out with him. We can have misunderstandings and whenever there’s an issue we’ll make sure we voice it rather than harbor it, it’s dangerous. It’s the same in the kitchen. You start harboring problems and complacency seeps in and before you know it you’ve got an inconsistent restaurant. It doesn’t work.</td>\n",
              "      <td>​I’m not sure I would have been able to write this novel without having gone through what I did, and it was a very painful time in my life. But at least now when people ask me how I can be so strong or why I am such an optimist despite all of these things happening around me, I say because I know where I came from. And if I could survive that then anything is possible for anyone else. So I feel like I owe it to myself but also to other women out there who may need some inspiration to get them going again after something has happened to them. It doesn't matter whether they were abused as children by their parents or raped on the street; whatever it might be, we all go through hard times. We just don't always share our stories publicly. But I hope that sharing mine will help others find strength within themselves too.</td>\n",
              "    </tr>\n",
              "  </tbody>\n",
              "</table>"
            ],
            "text/plain": [
              "<IPython.core.display.HTML object>"
            ]
          },
          "metadata": {},
          "output_type": "display_data"
        }
      ],
      "source": [
        "#@title Show all evaluation Generations\n",
        "show(model_outputs, rows=0)"
      ]
    },
    {
      "cell_type": "code",
      "execution_count": null,
      "metadata": {
        "id": "uZiOaEzy_0Sh"
      },
      "outputs": [],
      "source": [
        "evaluation_results['base llama'] = [0.0071028143356097985, 0.24531115014953658, 0.7618087530136108, 146.41720581054688]"
      ]
    },
    {
      "cell_type": "code",
      "execution_count": null,
      "metadata": {
        "colab": {
          "base_uri": "https://localhost:8080/",
          "height": 401
        },
        "id": "TzGRWEvfPtxA",
        "outputId": "21a3242c-5f63-457f-d112-5a869473f849"
      },
      "outputs": [
        {
          "data": {
            "image/png": "[encoded data removed]",
            "text/plain": [
              "<Figure size 830.75x400 with 1 Axes>"
            ]
          },
          "metadata": {},
          "output_type": "display_data"
        }
      ],
      "source": [
        "#@title Plot Accuracy results\n",
        "import seaborn as sns\n",
        "\n",
        "\n",
        "# plot data as a bar chart with grouped bars (grouped my metric)\n",
        "# with all scores for each model next to each other\n",
        "results_metrics = [\"bleu score (x10)\", \"rouge_score\", \"cos similarity\", \"dot similarity (1/200)\"]\n",
        "sns.set_theme(style=\"whitegrid\")\n",
        "\n",
        "result_scores = []\n",
        "for model in evaluation_results:\n",
        "    result_scores.append(evaluation_results[model])\n",
        "\n",
        "result_scores = np.array(result_scores)\n",
        "result_scores = np.transpose(result_scores)\n",
        "\n",
        "result_scores = pd.DataFrame(result_scores, columns=evaluation_results.keys())\n",
        "result_scores.iloc[0] *= 10\n",
        "result_scores.iloc[3] /= 200\n",
        "result_scores[\"metrics\"] = results_metrics\n",
        "result_scores = result_scores.melt(\"metrics\", var_name=\"models\", value_name=\"scores\")\n",
        "\n",
        "\n",
        "g = sns.catplot(\n",
        "    data=result_scores, kind=\"bar\",\n",
        "    x=\"metrics\", y=\"scores\", hue=\"models\", palette=\"dark\", height=4, aspect=1.5,\n",
        ")\n",
        "# plt.yscale(\"log\")\n"
      ]
    },
    {
      "cell_type": "code",
      "execution_count": null,
      "metadata": {
        "colab": {
          "base_uri": "https://localhost:8080/"
        },
        "id": "2WQbhynQeJOi",
        "outputId": "03b639a4-ab4e-4a93-b49b-5008b10ddb0e"
      },
      "outputs": [
        {
          "name": "stderr",
          "output_type": "stream",
          "text": [
            "The model 'PeftModelForCausalLM' is not supported for text-generation. Supported models are ['BartForCausalLM', 'BertLMHeadModel', 'BertGenerationDecoder', 'BigBirdForCausalLM', 'BigBirdPegasusForCausalLM', 'BioGptForCausalLM', 'BlenderbotForCausalLM', 'BlenderbotSmallForCausalLM', 'BloomForCausalLM', 'CamembertForCausalLM', 'LlamaForCausalLM', 'CodeGenForCausalLM', 'CpmAntForCausalLM', 'CTRLLMHeadModel', 'Data2VecTextForCausalLM', 'ElectraForCausalLM', 'ErnieForCausalLM', 'FalconForCausalLM', 'FuyuForCausalLM', 'GitForCausalLM', 'GPT2LMHeadModel', 'GPT2LMHeadModel', 'GPTBigCodeForCausalLM', 'GPTNeoForCausalLM', 'GPTNeoXForCausalLM', 'GPTNeoXJapaneseForCausalLM', 'GPTJForCausalLM', 'LlamaForCausalLM', 'MarianForCausalLM', 'MBartForCausalLM', 'MegaForCausalLM', 'MegatronBertForCausalLM', 'MistralForCausalLM', 'MptForCausalLM', 'MusicgenForCausalLM', 'MvpForCausalLM', 'OpenLlamaForCausalLM', 'OpenAIGPTLMHeadModel', 'OPTForCausalLM', 'PegasusForCausalLM', 'PersimmonForCausalLM', 'PLBartForCausalLM', 'ProphetNetForCausalLM', 'QDQBertLMHeadModel', 'ReformerModelWithLMHead', 'RemBertForCausalLM', 'RobertaForCausalLM', 'RobertaPreLayerNormForCausalLM', 'RoCBertForCausalLM', 'RoFormerForCausalLM', 'RwkvForCausalLM', 'Speech2Text2ForCausalLM', 'TransfoXLLMHeadModel', 'TrOCRForCausalLM', 'WhisperForCausalLM', 'XGLMForCausalLM', 'XLMWithLMHeadModel', 'XLMProphetNetForCausalLM', 'XLMRobertaForCausalLM', 'XLMRobertaXLForCausalLM', 'XLNetLMHeadModel', 'XmodForCausalLM'].\n",
            "/usr/local/lib/python3.10/dist-packages/transformers/generation/utils.py:1473: UserWarning: You have modified the pretrained model configuration to control generation. This is a deprecated strategy to control generation and will be removed soon, in a future version. Please use and modify the model generation configuration (see https://huggingface.co/docs/transformers/generation_strategies#default-text-generation-configuration )\n",
            "  warnings.warn(\n",
            "/usr/local/lib/python3.10/dist-packages/transformers/generation/configuration_utils.py:381: UserWarning: `do_sample` is set to `False`. However, `temperature` is set to `0.7` -- this flag is only used in sample-based generation modes. You should set `do_sample=True` or unset `temperature`.\n",
            "  warnings.warn(\n",
            "/usr/local/lib/python3.10/dist-packages/torch/utils/checkpoint.py:429: UserWarning: torch.utils.checkpoint: please pass in use_reentrant=True or use_reentrant=False explicitly. The default value of use_reentrant will be updated to be False in the future. To maintain current behavior, pass use_reentrant=True. It is recommended that you use use_reentrant=False. Refer to docs for more details on the differences between the two variants.\n",
            "  warnings.warn(\n",
            "/usr/local/lib/python3.10/dist-packages/torch/utils/checkpoint.py:61: UserWarning: None of the inputs have requires_grad=True. Gradients will be None\n",
            "  warnings.warn(\n"
          ]
        },
        {
          "name": "stdout",
          "output_type": "stream",
          "text": [
            " Leonard! I'm glad you could make it.\n",
            "Leonard: Hey, guys. How are things?\n",
            "Sheldon: We were just talking about how much fun it is when Penny comes over and talks with us like normal people instead of some kind of weirdo.\n",
            "Leonard: Yeah, well, she seems nice enough.\n",
            "Raj: She does seem very nice.\n",
            "Howard: You know what else would be really cool? If she came\n"
          ]
        }
      ],
      "source": [
        "print(answer(\"Scene: The stairs of the apartment building.\\n\\nLeonard: Hi. Well, uh, oh, welcome to the building.\\nPenny: Thankyou, maybe we can have coffee sometime.\\nLeonard: Oh, great.\\nPenny: Great.\\n   Sheldon:\"))"
      ]
    },
    {
      "cell_type": "code",
      "execution_count": null,
      "metadata": {
        "colab": {
          "base_uri": "https://localhost:8080/"
        },
        "id": "3S9Cm7PKeSQE",
        "outputId": "b90d29ec-69db-4090-bfdc-1d66ff55955c"
      },
      "outputs": [
        {
          "name": "stderr",
          "output_type": "stream",
          "text": [
            "The model 'PeftModelForCausalLM' is not supported for text-generation. Supported models are ['BartForCausalLM', 'BertLMHeadModel', 'BertGenerationDecoder', 'BigBirdForCausalLM', 'BigBirdPegasusForCausalLM', 'BioGptForCausalLM', 'BlenderbotForCausalLM', 'BlenderbotSmallForCausalLM', 'BloomForCausalLM', 'CamembertForCausalLM', 'LlamaForCausalLM', 'CodeGenForCausalLM', 'CpmAntForCausalLM', 'CTRLLMHeadModel', 'Data2VecTextForCausalLM', 'ElectraForCausalLM', 'ErnieForCausalLM', 'FalconForCausalLM', 'FuyuForCausalLM', 'GitForCausalLM', 'GPT2LMHeadModel', 'GPT2LMHeadModel', 'GPTBigCodeForCausalLM', 'GPTNeoForCausalLM', 'GPTNeoXForCausalLM', 'GPTNeoXJapaneseForCausalLM', 'GPTJForCausalLM', 'LlamaForCausalLM', 'MarianForCausalLM', 'MBartForCausalLM', 'MegaForCausalLM', 'MegatronBertForCausalLM', 'MistralForCausalLM', 'MptForCausalLM', 'MusicgenForCausalLM', 'MvpForCausalLM', 'OpenLlamaForCausalLM', 'OpenAIGPTLMHeadModel', 'OPTForCausalLM', 'PegasusForCausalLM', 'PersimmonForCausalLM', 'PLBartForCausalLM', 'ProphetNetForCausalLM', 'QDQBertLMHeadModel', 'ReformerModelWithLMHead', 'RemBertForCausalLM', 'RobertaForCausalLM', 'RobertaPreLayerNormForCausalLM', 'RoCBertForCausalLM', 'RoFormerForCausalLM', 'RwkvForCausalLM', 'Speech2Text2ForCausalLM', 'TransfoXLLMHeadModel', 'TrOCRForCausalLM', 'WhisperForCausalLM', 'XGLMForCausalLM', 'XLMWithLMHeadModel', 'XLMProphetNetForCausalLM', 'XLMRobertaForCausalLM', 'XLMRobertaXLForCausalLM', 'XLNetLMHeadModel', 'XmodForCausalLM'].\n"
          ]
        },
        {
          "name": "stdout",
          "output_type": "stream",
          "text": [
            " (Sigh)\n",
            "\n",
            "Scene: The living room of Penny's apartment. Leonard and Penny are sitting together watching TV.\n",
            "\n",
            "Penny: So what do we think?\n",
            "\n",
            "Leonard: Well, it was nice meeting her. She seems like she could be fun. But...\n",
            "\n",
            "Penny: Yeah, but?\n",
            "\n",
            "Leonard: It just felt weird being in there alone with her. Like, I didn't know how\n"
          ]
        }
      ],
      "source": [
        "print(answer(\"Scene: Living room, Sheldon is sleeping on the sofa, with his head on Lesley’s Violin case.\\n\\nSheldon: I don’t come into your house and touch your board.\\nLesley: There are no incorrect equations on my board. \\nSheldon: Oh, that is so… so…\\nLesley: I’m sorry, I’ve got to run, if you come up with an adjective, text me. (Leaves).\\n   Sheldon:\"))"
      ]
    },
    {
      "cell_type": "code",
      "execution_count": null,
      "metadata": {
        "colab": {
          "base_uri": "https://localhost:8080/"
        },
        "id": "kxBfnngseR-6",
        "outputId": "23a866bb-27e9-4749-f922-c51e7e40befa"
      },
      "outputs": [
        {
          "name": "stderr",
          "output_type": "stream",
          "text": [
            "The model 'PeftModelForCausalLM' is not supported for text-generation. Supported models are ['BartForCausalLM', 'BertLMHeadModel', 'BertGenerationDecoder', 'BigBirdForCausalLM', 'BigBirdPegasusForCausalLM', 'BioGptForCausalLM', 'BlenderbotForCausalLM', 'BlenderbotSmallForCausalLM', 'BloomForCausalLM', 'CamembertForCausalLM', 'LlamaForCausalLM', 'CodeGenForCausalLM', 'CpmAntForCausalLM', 'CTRLLMHeadModel', 'Data2VecTextForCausalLM', 'ElectraForCausalLM', 'ErnieForCausalLM', 'FalconForCausalLM', 'FuyuForCausalLM', 'GitForCausalLM', 'GPT2LMHeadModel', 'GPT2LMHeadModel', 'GPTBigCodeForCausalLM', 'GPTNeoForCausalLM', 'GPTNeoXForCausalLM', 'GPTNeoXJapaneseForCausalLM', 'GPTJForCausalLM', 'LlamaForCausalLM', 'MarianForCausalLM', 'MBartForCausalLM', 'MegaForCausalLM', 'MegatronBertForCausalLM', 'MistralForCausalLM', 'MptForCausalLM', 'MusicgenForCausalLM', 'MvpForCausalLM', 'OpenLlamaForCausalLM', 'OpenAIGPTLMHeadModel', 'OPTForCausalLM', 'PegasusForCausalLM', 'PersimmonForCausalLM', 'PLBartForCausalLM', 'ProphetNetForCausalLM', 'QDQBertLMHeadModel', 'ReformerModelWithLMHead', 'RemBertForCausalLM', 'RobertaForCausalLM', 'RobertaPreLayerNormForCausalLM', 'RoCBertForCausalLM', 'RoFormerForCausalLM', 'RwkvForCausalLM', 'Speech2Text2ForCausalLM', 'TransfoXLLMHeadModel', 'TrOCRForCausalLM', 'WhisperForCausalLM', 'XGLMForCausalLM', 'XLMWithLMHeadModel', 'XLMProphetNetForCausalLM', 'XLMRobertaForCausalLM', 'XLMRobertaXLForCausalLM', 'XLNetLMHeadModel', 'XmodForCausalLM'].\n"
          ]
        },
        {
          "name": "stdout",
          "output_type": "stream",
          "text": [
            " I don't know why he doesn't just say it! He's so bad at this!\n",
            "Sheldon: Well, Leonard and Penny are on their way to the movies.\n",
            "Raj: Oh my God! They finally went there!\n",
            "Howard: Yeah, they're gonna see \"The Avengers.\"\n",
            " Raj: That is awesome!\n",
            " Howard: It was actually pretty good.\n",
            " Raj: Really?\n",
            " Howar d :Y\n"
          ]
        }
      ],
      "source": [
        "print(answer(\"Scene: The apartment.\\n\\nPenny: You didn’t tell her we were going out, did you?\\nLeonard: Um…\\nPenny: Why not?\\nLeonard: Um…\\n   Sheldon:\"))"
      ]
    },
    {
      "cell_type": "code",
      "execution_count": null,
      "metadata": {
        "colab": {
          "base_uri": "https://localhost:8080/"
        },
        "id": "StSi5CSJpzQC",
        "outputId": "aed43d65-39b1-4100-fba7-2f3564efc368"
      },
      "outputs": [
        {
          "name": "stderr",
          "output_type": "stream",
          "text": [
            "The model 'PeftModelForCausalLM' is not supported for text-generation. Supported models are ['BartForCausalLM', 'BertLMHeadModel', 'BertGenerationDecoder', 'BigBirdForCausalLM', 'BigBirdPegasusForCausalLM', 'BioGptForCausalLM', 'BlenderbotForCausalLM', 'BlenderbotSmallForCausalLM', 'BloomForCausalLM', 'CamembertForCausalLM', 'LlamaForCausalLM', 'CodeGenForCausalLM', 'CpmAntForCausalLM', 'CTRLLMHeadModel', 'Data2VecTextForCausalLM', 'ElectraForCausalLM', 'ErnieForCausalLM', 'FalconForCausalLM', 'FuyuForCausalLM', 'GitForCausalLM', 'GPT2LMHeadModel', 'GPT2LMHeadModel', 'GPTBigCodeForCausalLM', 'GPTNeoForCausalLM', 'GPTNeoXForCausalLM', 'GPTNeoXJapaneseForCausalLM', 'GPTJForCausalLM', 'LlamaForCausalLM', 'MarianForCausalLM', 'MBartForCausalLM', 'MegaForCausalLM', 'MegatronBertForCausalLM', 'MistralForCausalLM', 'MptForCausalLM', 'MusicgenForCausalLM', 'MvpForCausalLM', 'OpenLlamaForCausalLM', 'OpenAIGPTLMHeadModel', 'OPTForCausalLM', 'PegasusForCausalLM', 'PersimmonForCausalLM', 'PLBartForCausalLM', 'ProphetNetForCausalLM', 'QDQBertLMHeadModel', 'ReformerModelWithLMHead', 'RemBertForCausalLM', 'RobertaForCausalLM', 'RobertaPreLayerNormForCausalLM', 'RoCBertForCausalLM', 'RoFormerForCausalLM', 'RwkvForCausalLM', 'Speech2Text2ForCausalLM', 'TransfoXLLMHeadModel', 'TrOCRForCausalLM', 'WhisperForCausalLM', 'XGLMForCausalLM', 'XLMWithLMHeadModel', 'XLMProphetNetForCausalLM', 'XLMRobertaForCausalLM', 'XLMRobertaXLForCausalLM', 'XLNetLMHeadModel', 'XmodForCausalLM'].\n"
          ]
        },
        {
          "name": "stdout",
          "output_type": "stream",
          "text": [
            " * I am an expert in the field of human sexuality and can assure you it is possible without physical contact.\n",
            "    * It's called \"sex.\"\n",
            "Leonard: Well, if he doesn't want to be touched then how do we know what his preferences are?\n",
            "Rajesh: Oh my God! He wants me to go down on him while he watches porno movies with Howard.\n",
            "Amy: That sounds about right.\n",
            "Scene\n"
          ]
        }
      ],
      "source": [
        "print(answer(\"Scene: A few moments later.\\n\\nHoward: I’m guessing that future historians will condemn us for not taking this opportunity to kill Sheldon.\\nPenny: Okay, I have a question.\\nSheldon: Yes, Penny.\\nPenny: You don’t even like people touching you. How are you going to have sex?\\n   Sheldon:\"))"
      ]
    }
  ],
  "metadata": {
    "accelerator": "GPU",
    "colab": {
      "collapsed_sections": [
        "GultelkPSVGV",
        "HIXwt1UG8gIe",
        "WyaKXNLPE6hb",
        "wJGFW2WufKtX",
        "fN2SjdzSMTgD",
        "euXyec3bltkS",
        "PHcpYI766YmH",
        "UG9pn0ZDSLru"
      ],
      "gpuType": "T4",
      "provenance": []
    },
    "kernelspec": {
      "display_name": "Python 3",
      "name": "python3"
    },
    "language_info": {
      "name": "python"
    },
    "widgets": {
      "application/vnd.jupyter.widget-state+json": {
        "01bdf99a90da467899a43414c24127fb": {
          "model_module": "@jupyter-widgets/controls",
          "model_module_version": "1.5.0",
          "model_name": "HTMLModel",
          "state": {
            "_dom_classes": [],
            "_model_module": "@jupyter-widgets/controls",
            "_model_module_version": "1.5.0",
            "_model_name": "HTMLModel",
            "_view_count": null,
            "_view_module": "@jupyter-widgets/controls",
            "_view_module_version": "1.5.0",
            "_view_name": "HTMLView",
            "description": "",
            "description_tooltip": null,
            "layout": "IPY_MODEL_d9f151d59776435f8c24277863cf4cc0",
            "placeholder": "​",
            "style": "IPY_MODEL_0e04abc31625457e8b2e0afa4075c81b",
            "value": " 1/1 [00:00&lt;00:00, 63.65it/s]"
          }
        },
        "02d5fbd749a34e93bd70d7cfc16ea88f": {
          "model_module": "@jupyter-widgets/base",
          "model_module_version": "1.2.0",
          "model_name": "LayoutModel",
          "state": {
            "_model_module": "@jupyter-widgets/base",
            "_model_module_version": "1.2.0",
            "_model_name": "LayoutModel",
            "_view_count": null,
            "_view_module": "@jupyter-widgets/base",
            "_view_module_version": "1.2.0",
            "_view_name": "LayoutView",
            "align_content": null,
            "align_items": null,
            "align_self": null,
            "border": null,
            "bottom": null,
            "display": null,
            "flex": null,
            "flex_flow": null,
            "grid_area": null,
            "grid_auto_columns": null,
            "grid_auto_flow": null,
            "grid_auto_rows": null,
            "grid_column": null,
            "grid_gap": null,
            "grid_row": null,
            "grid_template_areas": null,
            "grid_template_columns": null,
            "grid_template_rows": null,
            "height": null,
            "justify_content": null,
            "justify_items": null,
            "left": null,
            "margin": null,
            "max_height": null,
            "max_width": null,
            "min_height": null,
            "min_width": null,
            "object_fit": null,
            "object_position": null,
            "order": null,
            "overflow": null,
            "overflow_x": null,
            "overflow_y": null,
            "padding": null,
            "right": null,
            "top": null,
            "visibility": null,
            "width": null
          }
        },
        "04dfa73d696540b1864e5370c0462d56": {
          "model_module": "@jupyter-widgets/controls",
          "model_module_version": "1.5.0",
          "model_name": "HBoxModel",
          "state": {
            "_dom_classes": [],
            "_model_module": "@jupyter-widgets/controls",
            "_model_module_version": "1.5.0",
            "_model_name": "HBoxModel",
            "_view_count": null,
            "_view_module": "@jupyter-widgets/controls",
            "_view_module_version": "1.5.0",
            "_view_name": "HBoxView",
            "box_style": "",
            "children": [
              "IPY_MODEL_457274a264c145518f906cded35cfe94",
              "IPY_MODEL_47d6cbba25e344cb987f71ff0c212b4a",
              "IPY_MODEL_01bdf99a90da467899a43414c24127fb"
            ],
            "layout": "IPY_MODEL_e0a8716359f742eaa72088c54f39718b"
          }
        },
        "05df0e9e1e0b4961a22c2c05fb1be9e7": {
          "model_module": "@jupyter-widgets/base",
          "model_module_version": "1.2.0",
          "model_name": "LayoutModel",
          "state": {
            "_model_module": "@jupyter-widgets/base",
            "_model_module_version": "1.2.0",
            "_model_name": "LayoutModel",
            "_view_count": null,
            "_view_module": "@jupyter-widgets/base",
            "_view_module_version": "1.2.0",
            "_view_name": "LayoutView",
            "align_content": null,
            "align_items": null,
            "align_self": null,
            "border": null,
            "bottom": null,
            "display": null,
            "flex": null,
            "flex_flow": null,
            "grid_area": null,
            "grid_auto_columns": null,
            "grid_auto_flow": null,
            "grid_auto_rows": null,
            "grid_column": null,
            "grid_gap": null,
            "grid_row": null,
            "grid_template_areas": null,
            "grid_template_columns": null,
            "grid_template_rows": null,
            "height": null,
            "justify_content": null,
            "justify_items": null,
            "left": null,
            "margin": null,
            "max_height": null,
            "max_width": null,
            "min_height": null,
            "min_width": null,
            "object_fit": null,
            "object_position": null,
            "order": null,
            "overflow": null,
            "overflow_x": null,
            "overflow_y": null,
            "padding": null,
            "right": null,
            "top": null,
            "visibility": null,
            "width": null
          }
        },
        "05f0f828b75a416abdf369cc5b65a9a9": {
          "model_module": "@jupyter-widgets/controls",
          "model_module_version": "1.5.0",
          "model_name": "DescriptionStyleModel",
          "state": {
            "_model_module": "@jupyter-widgets/controls",
            "_model_module_version": "1.5.0",
            "_model_name": "DescriptionStyleModel",
            "_view_count": null,
            "_view_module": "@jupyter-widgets/base",
            "_view_module_version": "1.2.0",
            "_view_name": "StyleView",
            "description_width": ""
          }
        },
        "0e04abc31625457e8b2e0afa4075c81b": {
          "model_module": "@jupyter-widgets/controls",
          "model_module_version": "1.5.0",
          "model_name": "DescriptionStyleModel",
          "state": {
            "_model_module": "@jupyter-widgets/controls",
            "_model_module_version": "1.5.0",
            "_model_name": "DescriptionStyleModel",
            "_view_count": null,
            "_view_module": "@jupyter-widgets/base",
            "_view_module_version": "1.2.0",
            "_view_name": "StyleView",
            "description_width": ""
          }
        },
        "15645f8714f6499fad7a3b0b0d9a9359": {
          "model_module": "@jupyter-widgets/base",
          "model_module_version": "1.2.0",
          "model_name": "LayoutModel",
          "state": {
            "_model_module": "@jupyter-widgets/base",
            "_model_module_version": "1.2.0",
            "_model_name": "LayoutModel",
            "_view_count": null,
            "_view_module": "@jupyter-widgets/base",
            "_view_module_version": "1.2.0",
            "_view_name": "LayoutView",
            "align_content": null,
            "align_items": null,
            "align_self": null,
            "border": null,
            "bottom": null,
            "display": null,
            "flex": null,
            "flex_flow": null,
            "grid_area": null,
            "grid_auto_columns": null,
            "grid_auto_flow": null,
            "grid_auto_rows": null,
            "grid_column": null,
            "grid_gap": null,
            "grid_row": null,
            "grid_template_areas": null,
            "grid_template_columns": null,
            "grid_template_rows": null,
            "height": null,
            "justify_content": null,
            "justify_items": null,
            "left": null,
            "margin": null,
            "max_height": null,
            "max_width": null,
            "min_height": null,
            "min_width": null,
            "object_fit": null,
            "object_position": null,
            "order": null,
            "overflow": null,
            "overflow_x": null,
            "overflow_y": null,
            "padding": null,
            "right": null,
            "top": null,
            "visibility": null,
            "width": null
          }
        },
        "2808d1fdab3a42efa14c4b11eb413696": {
          "model_module": "@jupyter-widgets/controls",
          "model_module_version": "1.5.0",
          "model_name": "DescriptionStyleModel",
          "state": {
            "_model_module": "@jupyter-widgets/controls",
            "_model_module_version": "1.5.0",
            "_model_name": "DescriptionStyleModel",
            "_view_count": null,
            "_view_module": "@jupyter-widgets/base",
            "_view_module_version": "1.2.0",
            "_view_name": "StyleView",
            "description_width": ""
          }
        },
        "2a4569bd92d742afbfe12e84c7470233": {
          "model_module": "@jupyter-widgets/base",
          "model_module_version": "1.2.0",
          "model_name": "LayoutModel",
          "state": {
            "_model_module": "@jupyter-widgets/base",
            "_model_module_version": "1.2.0",
            "_model_name": "LayoutModel",
            "_view_count": null,
            "_view_module": "@jupyter-widgets/base",
            "_view_module_version": "1.2.0",
            "_view_name": "LayoutView",
            "align_content": null,
            "align_items": null,
            "align_self": null,
            "border": null,
            "bottom": null,
            "display": null,
            "flex": null,
            "flex_flow": null,
            "grid_area": null,
            "grid_auto_columns": null,
            "grid_auto_flow": null,
            "grid_auto_rows": null,
            "grid_column": null,
            "grid_gap": null,
            "grid_row": null,
            "grid_template_areas": null,
            "grid_template_columns": null,
            "grid_template_rows": null,
            "height": null,
            "justify_content": null,
            "justify_items": null,
            "left": null,
            "margin": null,
            "max_height": null,
            "max_width": null,
            "min_height": null,
            "min_width": null,
            "object_fit": null,
            "object_position": null,
            "order": null,
            "overflow": null,
            "overflow_x": null,
            "overflow_y": null,
            "padding": null,
            "right": null,
            "top": null,
            "visibility": null,
            "width": null
          }
        },
        "332d51dd790b48abb44537ae5e696032": {
          "model_module": "@jupyter-widgets/controls",
          "model_module_version": "1.5.0",
          "model_name": "DescriptionStyleModel",
          "state": {
            "_model_module": "@jupyter-widgets/controls",
            "_model_module_version": "1.5.0",
            "_model_name": "DescriptionStyleModel",
            "_view_count": null,
            "_view_module": "@jupyter-widgets/base",
            "_view_module_version": "1.2.0",
            "_view_name": "StyleView",
            "description_width": ""
          }
        },
        "39ab843a56d04f71854e2fcca83233c6": {
          "model_module": "@jupyter-widgets/controls",
          "model_module_version": "1.5.0",
          "model_name": "DescriptionStyleModel",
          "state": {
            "_model_module": "@jupyter-widgets/controls",
            "_model_module_version": "1.5.0",
            "_model_name": "DescriptionStyleModel",
            "_view_count": null,
            "_view_module": "@jupyter-widgets/base",
            "_view_module_version": "1.2.0",
            "_view_name": "StyleView",
            "description_width": ""
          }
        },
        "408fecbc4a40430e953fcf1e139c2b59": {
          "model_module": "@jupyter-widgets/base",
          "model_module_version": "1.2.0",
          "model_name": "LayoutModel",
          "state": {
            "_model_module": "@jupyter-widgets/base",
            "_model_module_version": "1.2.0",
            "_model_name": "LayoutModel",
            "_view_count": null,
            "_view_module": "@jupyter-widgets/base",
            "_view_module_version": "1.2.0",
            "_view_name": "LayoutView",
            "align_content": null,
            "align_items": null,
            "align_self": null,
            "border": null,
            "bottom": null,
            "display": null,
            "flex": null,
            "flex_flow": null,
            "grid_area": null,
            "grid_auto_columns": null,
            "grid_auto_flow": null,
            "grid_auto_rows": null,
            "grid_column": null,
            "grid_gap": null,
            "grid_row": null,
            "grid_template_areas": null,
            "grid_template_columns": null,
            "grid_template_rows": null,
            "height": null,
            "justify_content": null,
            "justify_items": null,
            "left": null,
            "margin": null,
            "max_height": null,
            "max_width": null,
            "min_height": null,
            "min_width": null,
            "object_fit": null,
            "object_position": null,
            "order": null,
            "overflow": null,
            "overflow_x": null,
            "overflow_y": null,
            "padding": null,
            "right": null,
            "top": null,
            "visibility": null,
            "width": null
          }
        },
        "40a6494a92454bf0b2dc988d04b52d08": {
          "model_module": "@jupyter-widgets/controls",
          "model_module_version": "1.5.0",
          "model_name": "ProgressStyleModel",
          "state": {
            "_model_module": "@jupyter-widgets/controls",
            "_model_module_version": "1.5.0",
            "_model_name": "ProgressStyleModel",
            "_view_count": null,
            "_view_module": "@jupyter-widgets/base",
            "_view_module_version": "1.2.0",
            "_view_name": "StyleView",
            "bar_color": null,
            "description_width": ""
          }
        },
        "414cfbbfbe4c4be4b42f39927c53a85c": {
          "model_module": "@jupyter-widgets/base",
          "model_module_version": "1.2.0",
          "model_name": "LayoutModel",
          "state": {
            "_model_module": "@jupyter-widgets/base",
            "_model_module_version": "1.2.0",
            "_model_name": "LayoutModel",
            "_view_count": null,
            "_view_module": "@jupyter-widgets/base",
            "_view_module_version": "1.2.0",
            "_view_name": "LayoutView",
            "align_content": null,
            "align_items": null,
            "align_self": null,
            "border": null,
            "bottom": null,
            "display": null,
            "flex": null,
            "flex_flow": null,
            "grid_area": null,
            "grid_auto_columns": null,
            "grid_auto_flow": null,
            "grid_auto_rows": null,
            "grid_column": null,
            "grid_gap": null,
            "grid_row": null,
            "grid_template_areas": null,
            "grid_template_columns": null,
            "grid_template_rows": null,
            "height": null,
            "justify_content": null,
            "justify_items": null,
            "left": null,
            "margin": null,
            "max_height": null,
            "max_width": null,
            "min_height": null,
            "min_width": null,
            "object_fit": null,
            "object_position": null,
            "order": null,
            "overflow": null,
            "overflow_x": null,
            "overflow_y": null,
            "padding": null,
            "right": null,
            "top": null,
            "visibility": null,
            "width": null
          }
        },
        "457274a264c145518f906cded35cfe94": {
          "model_module": "@jupyter-widgets/controls",
          "model_module_version": "1.5.0",
          "model_name": "HTMLModel",
          "state": {
            "_dom_classes": [],
            "_model_module": "@jupyter-widgets/controls",
            "_model_module_version": "1.5.0",
            "_model_name": "HTMLModel",
            "_view_count": null,
            "_view_module": "@jupyter-widgets/controls",
            "_view_module_version": "1.5.0",
            "_view_name": "HTMLView",
            "description": "",
            "description_tooltip": null,
            "layout": "IPY_MODEL_6aed6e91c06340bd95f568e70fbab731",
            "placeholder": "​",
            "style": "IPY_MODEL_729acdb7f6ac411ab04e3f6036487453",
            "value": "Downloading data files: 100%"
          }
        },
        "47d6cbba25e344cb987f71ff0c212b4a": {
          "model_module": "@jupyter-widgets/controls",
          "model_module_version": "1.5.0",
          "model_name": "FloatProgressModel",
          "state": {
            "_dom_classes": [],
            "_model_module": "@jupyter-widgets/controls",
            "_model_module_version": "1.5.0",
            "_model_name": "FloatProgressModel",
            "_view_count": null,
            "_view_module": "@jupyter-widgets/controls",
            "_view_module_version": "1.5.0",
            "_view_name": "ProgressView",
            "bar_style": "success",
            "description": "",
            "description_tooltip": null,
            "layout": "IPY_MODEL_02d5fbd749a34e93bd70d7cfc16ea88f",
            "max": 1,
            "min": 0,
            "orientation": "horizontal",
            "style": "IPY_MODEL_95ca3d2afa4645af923bdcb7be487694",
            "value": 1
          }
        },
        "4c87d23f3aa64594bf453cd6ac12cee9": {
          "model_module": "@jupyter-widgets/controls",
          "model_module_version": "1.5.0",
          "model_name": "HTMLModel",
          "state": {
            "_dom_classes": [],
            "_model_module": "@jupyter-widgets/controls",
            "_model_module_version": "1.5.0",
            "_model_name": "HTMLModel",
            "_view_count": null,
            "_view_module": "@jupyter-widgets/controls",
            "_view_module_version": "1.5.0",
            "_view_name": "HTMLView",
            "description": "",
            "description_tooltip": null,
            "layout": "IPY_MODEL_05df0e9e1e0b4961a22c2c05fb1be9e7",
            "placeholder": "​",
            "style": "IPY_MODEL_332d51dd790b48abb44537ae5e696032",
            "value": " 2/2 [01:09&lt;00:00, 31.57s/it]"
          }
        },
        "5550a3986f4a4528a3d251b35255cfb6": {
          "model_module": "@jupyter-widgets/controls",
          "model_module_version": "1.5.0",
          "model_name": "HBoxModel",
          "state": {
            "_dom_classes": [],
            "_model_module": "@jupyter-widgets/controls",
            "_model_module_version": "1.5.0",
            "_model_name": "HBoxModel",
            "_view_count": null,
            "_view_module": "@jupyter-widgets/controls",
            "_view_module_version": "1.5.0",
            "_view_name": "HBoxView",
            "box_style": "",
            "children": [
              "IPY_MODEL_93fbee38a040490896586f25afefa9c8",
              "IPY_MODEL_7ade8217409b44d38de7536db9919b05",
              "IPY_MODEL_69b8aa0e5f5e4697a86e836c2b2a769d"
            ],
            "layout": "IPY_MODEL_7cae71f7b26c4aa7b78ade9fc582266f"
          }
        },
        "5af44b04804f448bb552234457d65a90": {
          "model_module": "@jupyter-widgets/base",
          "model_module_version": "1.2.0",
          "model_name": "LayoutModel",
          "state": {
            "_model_module": "@jupyter-widgets/base",
            "_model_module_version": "1.2.0",
            "_model_name": "LayoutModel",
            "_view_count": null,
            "_view_module": "@jupyter-widgets/base",
            "_view_module_version": "1.2.0",
            "_view_name": "LayoutView",
            "align_content": null,
            "align_items": null,
            "align_self": null,
            "border": null,
            "bottom": null,
            "display": null,
            "flex": null,
            "flex_flow": null,
            "grid_area": null,
            "grid_auto_columns": null,
            "grid_auto_flow": null,
            "grid_auto_rows": null,
            "grid_column": null,
            "grid_gap": null,
            "grid_row": null,
            "grid_template_areas": null,
            "grid_template_columns": null,
            "grid_template_rows": null,
            "height": null,
            "justify_content": null,
            "justify_items": null,
            "left": null,
            "margin": null,
            "max_height": null,
            "max_width": null,
            "min_height": null,
            "min_width": null,
            "object_fit": null,
            "object_position": null,
            "order": null,
            "overflow": null,
            "overflow_x": null,
            "overflow_y": null,
            "padding": null,
            "right": null,
            "top": null,
            "visibility": null,
            "width": null
          }
        },
        "5c4c052a019a46d99ce4ebf9317179d2": {
          "model_module": "@jupyter-widgets/controls",
          "model_module_version": "1.5.0",
          "model_name": "FloatProgressModel",
          "state": {
            "_dom_classes": [],
            "_model_module": "@jupyter-widgets/controls",
            "_model_module_version": "1.5.0",
            "_model_name": "FloatProgressModel",
            "_view_count": null,
            "_view_module": "@jupyter-widgets/controls",
            "_view_module_version": "1.5.0",
            "_view_name": "ProgressView",
            "bar_style": "success",
            "description": "",
            "description_tooltip": null,
            "layout": "IPY_MODEL_89d9cc190f6a4d80b16841f2ae11cae0",
            "max": 1,
            "min": 0,
            "orientation": "horizontal",
            "style": "IPY_MODEL_40a6494a92454bf0b2dc988d04b52d08",
            "value": 1
          }
        },
        "69b8aa0e5f5e4697a86e836c2b2a769d": {
          "model_module": "@jupyter-widgets/controls",
          "model_module_version": "1.5.0",
          "model_name": "HTMLModel",
          "state": {
            "_dom_classes": [],
            "_model_module": "@jupyter-widgets/controls",
            "_model_module_version": "1.5.0",
            "_model_name": "HTMLModel",
            "_view_count": null,
            "_view_module": "@jupyter-widgets/controls",
            "_view_module_version": "1.5.0",
            "_view_name": "HTMLView",
            "description": "",
            "description_tooltip": null,
            "layout": "IPY_MODEL_15645f8714f6499fad7a3b0b0d9a9359",
            "placeholder": "​",
            "style": "IPY_MODEL_05f0f828b75a416abdf369cc5b65a9a9",
            "value": " 113/113 [00:00&lt;00:00, 652.36 examples/s]"
          }
        },
        "69e4014e5ca343cab187f9af4894030b": {
          "model_module": "@jupyter-widgets/controls",
          "model_module_version": "1.5.0",
          "model_name": "DescriptionStyleModel",
          "state": {
            "_model_module": "@jupyter-widgets/controls",
            "_model_module_version": "1.5.0",
            "_model_name": "DescriptionStyleModel",
            "_view_count": null,
            "_view_module": "@jupyter-widgets/base",
            "_view_module_version": "1.2.0",
            "_view_name": "StyleView",
            "description_width": ""
          }
        },
        "6aed6e91c06340bd95f568e70fbab731": {
          "model_module": "@jupyter-widgets/base",
          "model_module_version": "1.2.0",
          "model_name": "LayoutModel",
          "state": {
            "_model_module": "@jupyter-widgets/base",
            "_model_module_version": "1.2.0",
            "_model_name": "LayoutModel",
            "_view_count": null,
            "_view_module": "@jupyter-widgets/base",
            "_view_module_version": "1.2.0",
            "_view_name": "LayoutView",
            "align_content": null,
            "align_items": null,
            "align_self": null,
            "border": null,
            "bottom": null,
            "display": null,
            "flex": null,
            "flex_flow": null,
            "grid_area": null,
            "grid_auto_columns": null,
            "grid_auto_flow": null,
            "grid_auto_rows": null,
            "grid_column": null,
            "grid_gap": null,
            "grid_row": null,
            "grid_template_areas": null,
            "grid_template_columns": null,
            "grid_template_rows": null,
            "height": null,
            "justify_content": null,
            "justify_items": null,
            "left": null,
            "margin": null,
            "max_height": null,
            "max_width": null,
            "min_height": null,
            "min_width": null,
            "object_fit": null,
            "object_position": null,
            "order": null,
            "overflow": null,
            "overflow_x": null,
            "overflow_y": null,
            "padding": null,
            "right": null,
            "top": null,
            "visibility": null,
            "width": null
          }
        },
        "72979b0ce5804818b13e138ac6957dde": {
          "model_module": "@jupyter-widgets/controls",
          "model_module_version": "1.5.0",
          "model_name": "DescriptionStyleModel",
          "state": {
            "_model_module": "@jupyter-widgets/controls",
            "_model_module_version": "1.5.0",
            "_model_name": "DescriptionStyleModel",
            "_view_count": null,
            "_view_module": "@jupyter-widgets/base",
            "_view_module_version": "1.2.0",
            "_view_name": "StyleView",
            "description_width": ""
          }
        },
        "729acdb7f6ac411ab04e3f6036487453": {
          "model_module": "@jupyter-widgets/controls",
          "model_module_version": "1.5.0",
          "model_name": "DescriptionStyleModel",
          "state": {
            "_model_module": "@jupyter-widgets/controls",
            "_model_module_version": "1.5.0",
            "_model_name": "DescriptionStyleModel",
            "_view_count": null,
            "_view_module": "@jupyter-widgets/base",
            "_view_module_version": "1.2.0",
            "_view_name": "StyleView",
            "description_width": ""
          }
        },
        "76912993f6364b82bcee0c7ccfbb6501": {
          "model_module": "@jupyter-widgets/controls",
          "model_module_version": "1.5.0",
          "model_name": "ProgressStyleModel",
          "state": {
            "_model_module": "@jupyter-widgets/controls",
            "_model_module_version": "1.5.0",
            "_model_name": "ProgressStyleModel",
            "_view_count": null,
            "_view_module": "@jupyter-widgets/base",
            "_view_module_version": "1.2.0",
            "_view_name": "StyleView",
            "bar_color": null,
            "description_width": ""
          }
        },
        "78c83694a62c463c99ac525b1fb1ee2d": {
          "model_module": "@jupyter-widgets/base",
          "model_module_version": "1.2.0",
          "model_name": "LayoutModel",
          "state": {
            "_model_module": "@jupyter-widgets/base",
            "_model_module_version": "1.2.0",
            "_model_name": "LayoutModel",
            "_view_count": null,
            "_view_module": "@jupyter-widgets/base",
            "_view_module_version": "1.2.0",
            "_view_name": "LayoutView",
            "align_content": null,
            "align_items": null,
            "align_self": null,
            "border": null,
            "bottom": null,
            "display": null,
            "flex": null,
            "flex_flow": null,
            "grid_area": null,
            "grid_auto_columns": null,
            "grid_auto_flow": null,
            "grid_auto_rows": null,
            "grid_column": null,
            "grid_gap": null,
            "grid_row": null,
            "grid_template_areas": null,
            "grid_template_columns": null,
            "grid_template_rows": null,
            "height": null,
            "justify_content": null,
            "justify_items": null,
            "left": null,
            "margin": null,
            "max_height": null,
            "max_width": null,
            "min_height": null,
            "min_width": null,
            "object_fit": null,
            "object_position": null,
            "order": null,
            "overflow": null,
            "overflow_x": null,
            "overflow_y": null,
            "padding": null,
            "right": null,
            "top": null,
            "visibility": null,
            "width": null
          }
        },
        "7ada00029f1040819077d04e2a12def0": {
          "model_module": "@jupyter-widgets/controls",
          "model_module_version": "1.5.0",
          "model_name": "HTMLModel",
          "state": {
            "_dom_classes": [],
            "_model_module": "@jupyter-widgets/controls",
            "_model_module_version": "1.5.0",
            "_model_name": "HTMLModel",
            "_view_count": null,
            "_view_module": "@jupyter-widgets/controls",
            "_view_module_version": "1.5.0",
            "_view_name": "HTMLView",
            "description": "",
            "description_tooltip": null,
            "layout": "IPY_MODEL_cb61501b8a4743628f61a53f9dbce4e8",
            "placeholder": "​",
            "style": "IPY_MODEL_2808d1fdab3a42efa14c4b11eb413696",
            "value": " 1/1 [00:00&lt;00:00, 42.48it/s]"
          }
        },
        "7ade8217409b44d38de7536db9919b05": {
          "model_module": "@jupyter-widgets/controls",
          "model_module_version": "1.5.0",
          "model_name": "FloatProgressModel",
          "state": {
            "_dom_classes": [],
            "_model_module": "@jupyter-widgets/controls",
            "_model_module_version": "1.5.0",
            "_model_name": "FloatProgressModel",
            "_view_count": null,
            "_view_module": "@jupyter-widgets/controls",
            "_view_module_version": "1.5.0",
            "_view_name": "ProgressView",
            "bar_style": "success",
            "description": "",
            "description_tooltip": null,
            "layout": "IPY_MODEL_8bef61f909444c6f9c9a498713a9a62d",
            "max": 113,
            "min": 0,
            "orientation": "horizontal",
            "style": "IPY_MODEL_aca2c88ae01b438aaf89641e6b04f606",
            "value": 113
          }
        },
        "7ae202253c824c44a9e25937a8ec8d37": {
          "model_module": "@jupyter-widgets/controls",
          "model_module_version": "1.5.0",
          "model_name": "FloatProgressModel",
          "state": {
            "_dom_classes": [],
            "_model_module": "@jupyter-widgets/controls",
            "_model_module_version": "1.5.0",
            "_model_name": "FloatProgressModel",
            "_view_count": null,
            "_view_module": "@jupyter-widgets/controls",
            "_view_module_version": "1.5.0",
            "_view_name": "ProgressView",
            "bar_style": "success",
            "description": "",
            "description_tooltip": null,
            "layout": "IPY_MODEL_78c83694a62c463c99ac525b1fb1ee2d",
            "max": 2,
            "min": 0,
            "orientation": "horizontal",
            "style": "IPY_MODEL_c5672399f6a34d66a2126976008a0a66",
            "value": 2
          }
        },
        "7cae71f7b26c4aa7b78ade9fc582266f": {
          "model_module": "@jupyter-widgets/base",
          "model_module_version": "1.2.0",
          "model_name": "LayoutModel",
          "state": {
            "_model_module": "@jupyter-widgets/base",
            "_model_module_version": "1.2.0",
            "_model_name": "LayoutModel",
            "_view_count": null,
            "_view_module": "@jupyter-widgets/base",
            "_view_module_version": "1.2.0",
            "_view_name": "LayoutView",
            "align_content": null,
            "align_items": null,
            "align_self": null,
            "border": null,
            "bottom": null,
            "display": null,
            "flex": null,
            "flex_flow": null,
            "grid_area": null,
            "grid_auto_columns": null,
            "grid_auto_flow": null,
            "grid_auto_rows": null,
            "grid_column": null,
            "grid_gap": null,
            "grid_row": null,
            "grid_template_areas": null,
            "grid_template_columns": null,
            "grid_template_rows": null,
            "height": null,
            "justify_content": null,
            "justify_items": null,
            "left": null,
            "margin": null,
            "max_height": null,
            "max_width": null,
            "min_height": null,
            "min_width": null,
            "object_fit": null,
            "object_position": null,
            "order": null,
            "overflow": null,
            "overflow_x": null,
            "overflow_y": null,
            "padding": null,
            "right": null,
            "top": null,
            "visibility": null,
            "width": null
          }
        },
        "7ee9390b8d214902909026853081cb7a": {
          "model_module": "@jupyter-widgets/base",
          "model_module_version": "1.2.0",
          "model_name": "LayoutModel",
          "state": {
            "_model_module": "@jupyter-widgets/base",
            "_model_module_version": "1.2.0",
            "_model_name": "LayoutModel",
            "_view_count": null,
            "_view_module": "@jupyter-widgets/base",
            "_view_module_version": "1.2.0",
            "_view_name": "LayoutView",
            "align_content": null,
            "align_items": null,
            "align_self": null,
            "border": null,
            "bottom": null,
            "display": null,
            "flex": null,
            "flex_flow": null,
            "grid_area": null,
            "grid_auto_columns": null,
            "grid_auto_flow": null,
            "grid_auto_rows": null,
            "grid_column": null,
            "grid_gap": null,
            "grid_row": null,
            "grid_template_areas": null,
            "grid_template_columns": null,
            "grid_template_rows": null,
            "height": null,
            "justify_content": null,
            "justify_items": null,
            "left": null,
            "margin": null,
            "max_height": null,
            "max_width": null,
            "min_height": null,
            "min_width": null,
            "object_fit": null,
            "object_position": null,
            "order": null,
            "overflow": null,
            "overflow_x": null,
            "overflow_y": null,
            "padding": null,
            "right": null,
            "top": null,
            "visibility": null,
            "width": null
          }
        },
        "840c9a05775f46698343432b5471f4b6": {
          "model_module": "@jupyter-widgets/controls",
          "model_module_version": "1.5.0",
          "model_name": "HBoxModel",
          "state": {
            "_dom_classes": [],
            "_model_module": "@jupyter-widgets/controls",
            "_model_module_version": "1.5.0",
            "_model_name": "HBoxModel",
            "_view_count": null,
            "_view_module": "@jupyter-widgets/controls",
            "_view_module_version": "1.5.0",
            "_view_name": "HBoxView",
            "box_style": "",
            "children": [
              "IPY_MODEL_f0272a42db1b4aadae11cc33687905dc",
              "IPY_MODEL_5c4c052a019a46d99ce4ebf9317179d2",
              "IPY_MODEL_a60aac4ab1c343dbbcda2129d7db0e9d"
            ],
            "layout": "IPY_MODEL_7ee9390b8d214902909026853081cb7a"
          }
        },
        "89afe9439fa34fd69a6518c8eb776bad": {
          "model_module": "@jupyter-widgets/base",
          "model_module_version": "1.2.0",
          "model_name": "LayoutModel",
          "state": {
            "_model_module": "@jupyter-widgets/base",
            "_model_module_version": "1.2.0",
            "_model_name": "LayoutModel",
            "_view_count": null,
            "_view_module": "@jupyter-widgets/base",
            "_view_module_version": "1.2.0",
            "_view_name": "LayoutView",
            "align_content": null,
            "align_items": null,
            "align_self": null,
            "border": null,
            "bottom": null,
            "display": null,
            "flex": null,
            "flex_flow": null,
            "grid_area": null,
            "grid_auto_columns": null,
            "grid_auto_flow": null,
            "grid_auto_rows": null,
            "grid_column": null,
            "grid_gap": null,
            "grid_row": null,
            "grid_template_areas": null,
            "grid_template_columns": null,
            "grid_template_rows": null,
            "height": null,
            "justify_content": null,
            "justify_items": null,
            "left": null,
            "margin": null,
            "max_height": null,
            "max_width": null,
            "min_height": null,
            "min_width": null,
            "object_fit": null,
            "object_position": null,
            "order": null,
            "overflow": null,
            "overflow_x": null,
            "overflow_y": null,
            "padding": null,
            "right": null,
            "top": null,
            "visibility": null,
            "width": null
          }
        },
        "89d9cc190f6a4d80b16841f2ae11cae0": {
          "model_module": "@jupyter-widgets/base",
          "model_module_version": "1.2.0",
          "model_name": "LayoutModel",
          "state": {
            "_model_module": "@jupyter-widgets/base",
            "_model_module_version": "1.2.0",
            "_model_name": "LayoutModel",
            "_view_count": null,
            "_view_module": "@jupyter-widgets/base",
            "_view_module_version": "1.2.0",
            "_view_name": "LayoutView",
            "align_content": null,
            "align_items": null,
            "align_self": null,
            "border": null,
            "bottom": null,
            "display": null,
            "flex": null,
            "flex_flow": null,
            "grid_area": null,
            "grid_auto_columns": null,
            "grid_auto_flow": null,
            "grid_auto_rows": null,
            "grid_column": null,
            "grid_gap": null,
            "grid_row": null,
            "grid_template_areas": null,
            "grid_template_columns": null,
            "grid_template_rows": null,
            "height": null,
            "justify_content": null,
            "justify_items": null,
            "left": null,
            "margin": null,
            "max_height": null,
            "max_width": null,
            "min_height": null,
            "min_width": null,
            "object_fit": null,
            "object_position": null,
            "order": null,
            "overflow": null,
            "overflow_x": null,
            "overflow_y": null,
            "padding": null,
            "right": null,
            "top": null,
            "visibility": null,
            "width": "20px"
          }
        },
        "8bef61f909444c6f9c9a498713a9a62d": {
          "model_module": "@jupyter-widgets/base",
          "model_module_version": "1.2.0",
          "model_name": "LayoutModel",
          "state": {
            "_model_module": "@jupyter-widgets/base",
            "_model_module_version": "1.2.0",
            "_model_name": "LayoutModel",
            "_view_count": null,
            "_view_module": "@jupyter-widgets/base",
            "_view_module_version": "1.2.0",
            "_view_name": "LayoutView",
            "align_content": null,
            "align_items": null,
            "align_self": null,
            "border": null,
            "bottom": null,
            "display": null,
            "flex": null,
            "flex_flow": null,
            "grid_area": null,
            "grid_auto_columns": null,
            "grid_auto_flow": null,
            "grid_auto_rows": null,
            "grid_column": null,
            "grid_gap": null,
            "grid_row": null,
            "grid_template_areas": null,
            "grid_template_columns": null,
            "grid_template_rows": null,
            "height": null,
            "justify_content": null,
            "justify_items": null,
            "left": null,
            "margin": null,
            "max_height": null,
            "max_width": null,
            "min_height": null,
            "min_width": null,
            "object_fit": null,
            "object_position": null,
            "order": null,
            "overflow": null,
            "overflow_x": null,
            "overflow_y": null,
            "padding": null,
            "right": null,
            "top": null,
            "visibility": null,
            "width": null
          }
        },
        "93fbee38a040490896586f25afefa9c8": {
          "model_module": "@jupyter-widgets/controls",
          "model_module_version": "1.5.0",
          "model_name": "HTMLModel",
          "state": {
            "_dom_classes": [],
            "_model_module": "@jupyter-widgets/controls",
            "_model_module_version": "1.5.0",
            "_model_name": "HTMLModel",
            "_view_count": null,
            "_view_module": "@jupyter-widgets/controls",
            "_view_module_version": "1.5.0",
            "_view_name": "HTMLView",
            "description": "",
            "description_tooltip": null,
            "layout": "IPY_MODEL_be4ebc9812bf49d89e431cfd3f583cf1",
            "placeholder": "​",
            "style": "IPY_MODEL_72979b0ce5804818b13e138ac6957dde",
            "value": "Map: 100%"
          }
        },
        "95ca3d2afa4645af923bdcb7be487694": {
          "model_module": "@jupyter-widgets/controls",
          "model_module_version": "1.5.0",
          "model_name": "ProgressStyleModel",
          "state": {
            "_model_module": "@jupyter-widgets/controls",
            "_model_module_version": "1.5.0",
            "_model_name": "ProgressStyleModel",
            "_view_count": null,
            "_view_module": "@jupyter-widgets/base",
            "_view_module_version": "1.2.0",
            "_view_name": "StyleView",
            "bar_color": null,
            "description_width": ""
          }
        },
        "98ccb8cc57e44abeadc5d471729aefa0": {
          "model_module": "@jupyter-widgets/base",
          "model_module_version": "1.2.0",
          "model_name": "LayoutModel",
          "state": {
            "_model_module": "@jupyter-widgets/base",
            "_model_module_version": "1.2.0",
            "_model_name": "LayoutModel",
            "_view_count": null,
            "_view_module": "@jupyter-widgets/base",
            "_view_module_version": "1.2.0",
            "_view_name": "LayoutView",
            "align_content": null,
            "align_items": null,
            "align_self": null,
            "border": null,
            "bottom": null,
            "display": null,
            "flex": null,
            "flex_flow": null,
            "grid_area": null,
            "grid_auto_columns": null,
            "grid_auto_flow": null,
            "grid_auto_rows": null,
            "grid_column": null,
            "grid_gap": null,
            "grid_row": null,
            "grid_template_areas": null,
            "grid_template_columns": null,
            "grid_template_rows": null,
            "height": null,
            "justify_content": null,
            "justify_items": null,
            "left": null,
            "margin": null,
            "max_height": null,
            "max_width": null,
            "min_height": null,
            "min_width": null,
            "object_fit": null,
            "object_position": null,
            "order": null,
            "overflow": null,
            "overflow_x": null,
            "overflow_y": null,
            "padding": null,
            "right": null,
            "top": null,
            "visibility": null,
            "width": null
          }
        },
        "a358d0316e5f469d9831c3c21106f4c0": {
          "model_module": "@jupyter-widgets/controls",
          "model_module_version": "1.5.0",
          "model_name": "HTMLModel",
          "state": {
            "_dom_classes": [],
            "_model_module": "@jupyter-widgets/controls",
            "_model_module_version": "1.5.0",
            "_model_name": "HTMLModel",
            "_view_count": null,
            "_view_module": "@jupyter-widgets/controls",
            "_view_module_version": "1.5.0",
            "_view_name": "HTMLView",
            "description": "",
            "description_tooltip": null,
            "layout": "IPY_MODEL_98ccb8cc57e44abeadc5d471729aefa0",
            "placeholder": "​",
            "style": "IPY_MODEL_69e4014e5ca343cab187f9af4894030b",
            "value": "Loading checkpoint shards: 100%"
          }
        },
        "a60aac4ab1c343dbbcda2129d7db0e9d": {
          "model_module": "@jupyter-widgets/controls",
          "model_module_version": "1.5.0",
          "model_name": "HTMLModel",
          "state": {
            "_dom_classes": [],
            "_model_module": "@jupyter-widgets/controls",
            "_model_module_version": "1.5.0",
            "_model_name": "HTMLModel",
            "_view_count": null,
            "_view_module": "@jupyter-widgets/controls",
            "_view_module_version": "1.5.0",
            "_view_name": "HTMLView",
            "description": "",
            "description_tooltip": null,
            "layout": "IPY_MODEL_414cfbbfbe4c4be4b42f39927c53a85c",
            "placeholder": "​",
            "style": "IPY_MODEL_b29ad9bf6fa24110a51579258e6bdb83",
            "value": " 134/0 [00:00&lt;00:00, 2373.27 examples/s]"
          }
        },
        "aca2c88ae01b438aaf89641e6b04f606": {
          "model_module": "@jupyter-widgets/controls",
          "model_module_version": "1.5.0",
          "model_name": "ProgressStyleModel",
          "state": {
            "_model_module": "@jupyter-widgets/controls",
            "_model_module_version": "1.5.0",
            "_model_name": "ProgressStyleModel",
            "_view_count": null,
            "_view_module": "@jupyter-widgets/base",
            "_view_module_version": "1.2.0",
            "_view_name": "StyleView",
            "bar_color": null,
            "description_width": ""
          }
        },
        "af1fbc1f9e234037a02e093a628710ef": {
          "model_module": "@jupyter-widgets/controls",
          "model_module_version": "1.5.0",
          "model_name": "HTMLModel",
          "state": {
            "_dom_classes": [],
            "_model_module": "@jupyter-widgets/controls",
            "_model_module_version": "1.5.0",
            "_model_name": "HTMLModel",
            "_view_count": null,
            "_view_module": "@jupyter-widgets/controls",
            "_view_module_version": "1.5.0",
            "_view_name": "HTMLView",
            "description": "",
            "description_tooltip": null,
            "layout": "IPY_MODEL_408fecbc4a40430e953fcf1e139c2b59",
            "placeholder": "​",
            "style": "IPY_MODEL_bef3fe43ad72450ebcdd9c8aaf5cc300",
            "value": "Extracting data files: 100%"
          }
        },
        "b29ad9bf6fa24110a51579258e6bdb83": {
          "model_module": "@jupyter-widgets/controls",
          "model_module_version": "1.5.0",
          "model_name": "DescriptionStyleModel",
          "state": {
            "_model_module": "@jupyter-widgets/controls",
            "_model_module_version": "1.5.0",
            "_model_name": "DescriptionStyleModel",
            "_view_count": null,
            "_view_module": "@jupyter-widgets/base",
            "_view_module_version": "1.2.0",
            "_view_name": "StyleView",
            "description_width": ""
          }
        },
        "be4ebc9812bf49d89e431cfd3f583cf1": {
          "model_module": "@jupyter-widgets/base",
          "model_module_version": "1.2.0",
          "model_name": "LayoutModel",
          "state": {
            "_model_module": "@jupyter-widgets/base",
            "_model_module_version": "1.2.0",
            "_model_name": "LayoutModel",
            "_view_count": null,
            "_view_module": "@jupyter-widgets/base",
            "_view_module_version": "1.2.0",
            "_view_name": "LayoutView",
            "align_content": null,
            "align_items": null,
            "align_self": null,
            "border": null,
            "bottom": null,
            "display": null,
            "flex": null,
            "flex_flow": null,
            "grid_area": null,
            "grid_auto_columns": null,
            "grid_auto_flow": null,
            "grid_auto_rows": null,
            "grid_column": null,
            "grid_gap": null,
            "grid_row": null,
            "grid_template_areas": null,
            "grid_template_columns": null,
            "grid_template_rows": null,
            "height": null,
            "justify_content": null,
            "justify_items": null,
            "left": null,
            "margin": null,
            "max_height": null,
            "max_width": null,
            "min_height": null,
            "min_width": null,
            "object_fit": null,
            "object_position": null,
            "order": null,
            "overflow": null,
            "overflow_x": null,
            "overflow_y": null,
            "padding": null,
            "right": null,
            "top": null,
            "visibility": null,
            "width": null
          }
        },
        "bec63315a2fa45f0ab3564f1d8401da1": {
          "model_module": "@jupyter-widgets/base",
          "model_module_version": "1.2.0",
          "model_name": "LayoutModel",
          "state": {
            "_model_module": "@jupyter-widgets/base",
            "_model_module_version": "1.2.0",
            "_model_name": "LayoutModel",
            "_view_count": null,
            "_view_module": "@jupyter-widgets/base",
            "_view_module_version": "1.2.0",
            "_view_name": "LayoutView",
            "align_content": null,
            "align_items": null,
            "align_self": null,
            "border": null,
            "bottom": null,
            "display": null,
            "flex": null,
            "flex_flow": null,
            "grid_area": null,
            "grid_auto_columns": null,
            "grid_auto_flow": null,
            "grid_auto_rows": null,
            "grid_column": null,
            "grid_gap": null,
            "grid_row": null,
            "grid_template_areas": null,
            "grid_template_columns": null,
            "grid_template_rows": null,
            "height": null,
            "justify_content": null,
            "justify_items": null,
            "left": null,
            "margin": null,
            "max_height": null,
            "max_width": null,
            "min_height": null,
            "min_width": null,
            "object_fit": null,
            "object_position": null,
            "order": null,
            "overflow": null,
            "overflow_x": null,
            "overflow_y": null,
            "padding": null,
            "right": null,
            "top": null,
            "visibility": null,
            "width": null
          }
        },
        "bef3fe43ad72450ebcdd9c8aaf5cc300": {
          "model_module": "@jupyter-widgets/controls",
          "model_module_version": "1.5.0",
          "model_name": "DescriptionStyleModel",
          "state": {
            "_model_module": "@jupyter-widgets/controls",
            "_model_module_version": "1.5.0",
            "_model_name": "DescriptionStyleModel",
            "_view_count": null,
            "_view_module": "@jupyter-widgets/base",
            "_view_module_version": "1.2.0",
            "_view_name": "StyleView",
            "description_width": ""
          }
        },
        "c5672399f6a34d66a2126976008a0a66": {
          "model_module": "@jupyter-widgets/controls",
          "model_module_version": "1.5.0",
          "model_name": "ProgressStyleModel",
          "state": {
            "_model_module": "@jupyter-widgets/controls",
            "_model_module_version": "1.5.0",
            "_model_name": "ProgressStyleModel",
            "_view_count": null,
            "_view_module": "@jupyter-widgets/base",
            "_view_module_version": "1.2.0",
            "_view_name": "StyleView",
            "bar_color": null,
            "description_width": ""
          }
        },
        "cb61501b8a4743628f61a53f9dbce4e8": {
          "model_module": "@jupyter-widgets/base",
          "model_module_version": "1.2.0",
          "model_name": "LayoutModel",
          "state": {
            "_model_module": "@jupyter-widgets/base",
            "_model_module_version": "1.2.0",
            "_model_name": "LayoutModel",
            "_view_count": null,
            "_view_module": "@jupyter-widgets/base",
            "_view_module_version": "1.2.0",
            "_view_name": "LayoutView",
            "align_content": null,
            "align_items": null,
            "align_self": null,
            "border": null,
            "bottom": null,
            "display": null,
            "flex": null,
            "flex_flow": null,
            "grid_area": null,
            "grid_auto_columns": null,
            "grid_auto_flow": null,
            "grid_auto_rows": null,
            "grid_column": null,
            "grid_gap": null,
            "grid_row": null,
            "grid_template_areas": null,
            "grid_template_columns": null,
            "grid_template_rows": null,
            "height": null,
            "justify_content": null,
            "justify_items": null,
            "left": null,
            "margin": null,
            "max_height": null,
            "max_width": null,
            "min_height": null,
            "min_width": null,
            "object_fit": null,
            "object_position": null,
            "order": null,
            "overflow": null,
            "overflow_x": null,
            "overflow_y": null,
            "padding": null,
            "right": null,
            "top": null,
            "visibility": null,
            "width": null
          }
        },
        "d9f151d59776435f8c24277863cf4cc0": {
          "model_module": "@jupyter-widgets/base",
          "model_module_version": "1.2.0",
          "model_name": "LayoutModel",
          "state": {
            "_model_module": "@jupyter-widgets/base",
            "_model_module_version": "1.2.0",
            "_model_name": "LayoutModel",
            "_view_count": null,
            "_view_module": "@jupyter-widgets/base",
            "_view_module_version": "1.2.0",
            "_view_name": "LayoutView",
            "align_content": null,
            "align_items": null,
            "align_self": null,
            "border": null,
            "bottom": null,
            "display": null,
            "flex": null,
            "flex_flow": null,
            "grid_area": null,
            "grid_auto_columns": null,
            "grid_auto_flow": null,
            "grid_auto_rows": null,
            "grid_column": null,
            "grid_gap": null,
            "grid_row": null,
            "grid_template_areas": null,
            "grid_template_columns": null,
            "grid_template_rows": null,
            "height": null,
            "justify_content": null,
            "justify_items": null,
            "left": null,
            "margin": null,
            "max_height": null,
            "max_width": null,
            "min_height": null,
            "min_width": null,
            "object_fit": null,
            "object_position": null,
            "order": null,
            "overflow": null,
            "overflow_x": null,
            "overflow_y": null,
            "padding": null,
            "right": null,
            "top": null,
            "visibility": null,
            "width": null
          }
        },
        "e0a8716359f742eaa72088c54f39718b": {
          "model_module": "@jupyter-widgets/base",
          "model_module_version": "1.2.0",
          "model_name": "LayoutModel",
          "state": {
            "_model_module": "@jupyter-widgets/base",
            "_model_module_version": "1.2.0",
            "_model_name": "LayoutModel",
            "_view_count": null,
            "_view_module": "@jupyter-widgets/base",
            "_view_module_version": "1.2.0",
            "_view_name": "LayoutView",
            "align_content": null,
            "align_items": null,
            "align_self": null,
            "border": null,
            "bottom": null,
            "display": null,
            "flex": null,
            "flex_flow": null,
            "grid_area": null,
            "grid_auto_columns": null,
            "grid_auto_flow": null,
            "grid_auto_rows": null,
            "grid_column": null,
            "grid_gap": null,
            "grid_row": null,
            "grid_template_areas": null,
            "grid_template_columns": null,
            "grid_template_rows": null,
            "height": null,
            "justify_content": null,
            "justify_items": null,
            "left": null,
            "margin": null,
            "max_height": null,
            "max_width": null,
            "min_height": null,
            "min_width": null,
            "object_fit": null,
            "object_position": null,
            "order": null,
            "overflow": null,
            "overflow_x": null,
            "overflow_y": null,
            "padding": null,
            "right": null,
            "top": null,
            "visibility": null,
            "width": null
          }
        },
        "e945f0385eb24387a959dadcea22f716": {
          "model_module": "@jupyter-widgets/controls",
          "model_module_version": "1.5.0",
          "model_name": "HBoxModel",
          "state": {
            "_dom_classes": [],
            "_model_module": "@jupyter-widgets/controls",
            "_model_module_version": "1.5.0",
            "_model_name": "HBoxModel",
            "_view_count": null,
            "_view_module": "@jupyter-widgets/controls",
            "_view_module_version": "1.5.0",
            "_view_name": "HBoxView",
            "box_style": "",
            "children": [
              "IPY_MODEL_af1fbc1f9e234037a02e093a628710ef",
              "IPY_MODEL_f4a088c8beb44b0c8dc565d81e27363d",
              "IPY_MODEL_7ada00029f1040819077d04e2a12def0"
            ],
            "layout": "IPY_MODEL_89afe9439fa34fd69a6518c8eb776bad"
          }
        },
        "ef2e0ea92ed14b1f99ede26d2d35d9c2": {
          "model_module": "@jupyter-widgets/controls",
          "model_module_version": "1.5.0",
          "model_name": "HBoxModel",
          "state": {
            "_dom_classes": [],
            "_model_module": "@jupyter-widgets/controls",
            "_model_module_version": "1.5.0",
            "_model_name": "HBoxModel",
            "_view_count": null,
            "_view_module": "@jupyter-widgets/controls",
            "_view_module_version": "1.5.0",
            "_view_name": "HBoxView",
            "box_style": "",
            "children": [
              "IPY_MODEL_a358d0316e5f469d9831c3c21106f4c0",
              "IPY_MODEL_7ae202253c824c44a9e25937a8ec8d37",
              "IPY_MODEL_4c87d23f3aa64594bf453cd6ac12cee9"
            ],
            "layout": "IPY_MODEL_5af44b04804f448bb552234457d65a90"
          }
        },
        "f0272a42db1b4aadae11cc33687905dc": {
          "model_module": "@jupyter-widgets/controls",
          "model_module_version": "1.5.0",
          "model_name": "HTMLModel",
          "state": {
            "_dom_classes": [],
            "_model_module": "@jupyter-widgets/controls",
            "_model_module_version": "1.5.0",
            "_model_name": "HTMLModel",
            "_view_count": null,
            "_view_module": "@jupyter-widgets/controls",
            "_view_module_version": "1.5.0",
            "_view_name": "HTMLView",
            "description": "",
            "description_tooltip": null,
            "layout": "IPY_MODEL_bec63315a2fa45f0ab3564f1d8401da1",
            "placeholder": "​",
            "style": "IPY_MODEL_39ab843a56d04f71854e2fcca83233c6",
            "value": "Generating train split: "
          }
        },
        "f4a088c8beb44b0c8dc565d81e27363d": {
          "model_module": "@jupyter-widgets/controls",
          "model_module_version": "1.5.0",
          "model_name": "FloatProgressModel",
          "state": {
            "_dom_classes": [],
            "_model_module": "@jupyter-widgets/controls",
            "_model_module_version": "1.5.0",
            "_model_name": "FloatProgressModel",
            "_view_count": null,
            "_view_module": "@jupyter-widgets/controls",
            "_view_module_version": "1.5.0",
            "_view_name": "ProgressView",
            "bar_style": "success",
            "description": "",
            "description_tooltip": null,
            "layout": "IPY_MODEL_2a4569bd92d742afbfe12e84c7470233",
            "max": 1,
            "min": 0,
            "orientation": "horizontal",
            "style": "IPY_MODEL_76912993f6364b82bcee0c7ccfbb6501",
            "value": 1
          }
        }
      }
    }
  },
  "nbformat": 4,
  "nbformat_minor": 0
}
